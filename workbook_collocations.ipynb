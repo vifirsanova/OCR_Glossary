{
  "nbformat": 4,
  "nbformat_minor": 0,
  "metadata": {
    "colab": {
      "provenance": [],
      "authorship_tag": "ABX9TyPtJgqzToUYwDTgzyqKsivS",
      "include_colab_link": true
    },
    "kernelspec": {
      "name": "python3",
      "display_name": "Python 3"
    },
    "language_info": {
      "name": "python"
    }
  },
  "cells": [
    {
      "cell_type": "markdown",
      "metadata": {
        "id": "view-in-github",
        "colab_type": "text"
      },
      "source": [
        "<a href=\"https://colab.research.google.com/github/vifirsanova/OCR_Glossary/blob/main/workbook_collocations.ipynb\" target=\"_parent\"><img src=\"https://colab.research.google.com/assets/colab-badge.svg\" alt=\"Open In Colab\"/></a>"
      ]
    },
    {
      "cell_type": "code",
      "source": [
        "### ноутбук будет дополнен"
      ],
      "metadata": {
        "id": "70D5bjlyiAY4"
      },
      "execution_count": null,
      "outputs": []
    },
    {
      "cell_type": "markdown",
      "source": [
        "# Импорт библиотек"
      ],
      "metadata": {
        "id": "TCHQ8GKOR2Gk"
      }
    },
    {
      "cell_type": "code",
      "source": [
        "# использование цвета для вывода на экран\n",
        "!pip install colorama"
      ],
      "metadata": {
        "colab": {
          "base_uri": "https://localhost:8080/"
        },
        "id": "N1YGn1lbiur-",
        "outputId": "489a14b4-d5c8-4e2d-8226-cf76c15a560c"
      },
      "execution_count": 107,
      "outputs": [
        {
          "output_type": "stream",
          "name": "stdout",
          "text": [
            "Looking in indexes: https://pypi.org/simple, https://us-python.pkg.dev/colab-wheels/public/simple/\n",
            "Collecting colorama\n",
            "  Downloading colorama-0.4.6-py2.py3-none-any.whl (25 kB)\n",
            "Installing collected packages: colorama\n",
            "Successfully installed colorama-0.4.6\n"
          ]
        }
      ]
    },
    {
      "cell_type": "code",
      "source": [
        "from pathlib import Path\n",
        "import re\n",
        "from colorama import Fore, Style\n"
      ],
      "metadata": {
        "id": "4f7L71u0R1MK"
      },
      "execution_count": 108,
      "outputs": []
    },
    {
      "cell_type": "markdown",
      "source": [
        "# Загрузка нескольких файлов\n",
        "\n",
        "* загружаем файлы из GitHub\n",
        "* соединяем их в одной переменной"
      ],
      "metadata": {
        "id": "S0vYorJxRvqM"
      }
    },
    {
      "cell_type": "code",
      "execution_count": 2,
      "metadata": {
        "id": "Q03QcHD83KI3",
        "colab": {
          "base_uri": "https://localhost:8080/"
        },
        "outputId": "97e0001f-ef29-4ac6-843c-f70eea3ba6fc"
      },
      "outputs": [
        {
          "output_type": "stream",
          "name": "stdout",
          "text": [
            "--2023-02-01 09:22:56--  https://raw.githubusercontent.com/vifirsanova/OCR_Glossary/main/Geology.txt\n",
            "Resolving raw.githubusercontent.com (raw.githubusercontent.com)... 185.199.110.133, 185.199.109.133, 185.199.111.133, ...\n",
            "Connecting to raw.githubusercontent.com (raw.githubusercontent.com)|185.199.110.133|:443... connected.\n",
            "HTTP request sent, awaiting response... 200 OK\n",
            "Length: 207953 (203K) [text/plain]\n",
            "Saving to: ‘Geology.txt’\n",
            "\n",
            "Geology.txt         100%[===================>] 203.08K  --.-KB/s    in 0.02s   \n",
            "\n",
            "2023-02-01 09:22:56 (12.9 MB/s) - ‘Geology.txt’ saved [207953/207953]\n",
            "\n",
            "--2023-02-01 09:22:57--  https://raw.githubusercontent.com/vifirsanova/OCR_Glossary/main/Physical_Geology_2nd_Ed.txt\n",
            "Resolving raw.githubusercontent.com (raw.githubusercontent.com)... 185.199.108.133, 185.199.109.133, 185.199.110.133, ...\n",
            "Connecting to raw.githubusercontent.com (raw.githubusercontent.com)|185.199.108.133|:443... connected.\n",
            "HTTP request sent, awaiting response... 200 OK\n",
            "Length: 1268676 (1.2M) [text/plain]\n",
            "Saving to: ‘Physical_Geology_2nd_Ed.txt’\n",
            "\n",
            "Physical_Geology_2n 100%[===================>]   1.21M  --.-KB/s    in 0.03s   \n",
            "\n",
            "2023-02-01 09:22:57 (40.7 MB/s) - ‘Physical_Geology_2nd_Ed.txt’ saved [1268676/1268676]\n",
            "\n",
            "--2023-02-01 09:22:57--  https://raw.githubusercontent.com/vifirsanova/OCR_Glossary/main/Lumen-Learning-Geology.txt\n",
            "Resolving raw.githubusercontent.com (raw.githubusercontent.com)... 185.199.108.133, 185.199.109.133, 185.199.110.133, ...\n",
            "Connecting to raw.githubusercontent.com (raw.githubusercontent.com)|185.199.108.133|:443... connected.\n",
            "HTTP request sent, awaiting response... 200 OK\n",
            "Length: 994855 (972K) [text/plain]\n",
            "Saving to: ‘Lumen-Learning-Geology.txt’\n",
            "\n",
            "Lumen-Learning-Geol 100%[===================>] 971.54K  --.-KB/s    in 0.04s   \n",
            "\n",
            "2023-02-01 09:22:57 (25.4 MB/s) - ‘Lumen-Learning-Geology.txt’ saved [994855/994855]\n",
            "\n"
          ]
        }
      ],
      "source": [
        "!wget https://raw.githubusercontent.com/vifirsanova/OCR_Glossary/main/Geology.txt\n",
        "!wget https://raw.githubusercontent.com/vifirsanova/OCR_Glossary/main/Physical_Geology_2nd_Ed.txt\n",
        "!wget https://raw.githubusercontent.com/vifirsanova/OCR_Glossary/main/Lumen-Learning-Geology.txt"
      ]
    },
    {
      "cell_type": "code",
      "source": [
        "# проверяем наличие загруженных файлов в директории\n",
        "# с помощью консольной команды ls\n",
        "\n",
        "!ls"
      ],
      "metadata": {
        "colab": {
          "base_uri": "https://localhost:8080/"
        },
        "id": "VZElSXo0SVFr",
        "outputId": "afd1f935-76c0-4286-d7b1-ad72846891b7"
      },
      "execution_count": 3,
      "outputs": [
        {
          "output_type": "stream",
          "name": "stdout",
          "text": [
            "Geology.txt\t\t    Physical_Geology_2nd_Ed.txt\n",
            "Lumen-Learning-Geology.txt  sample_data\n"
          ]
        }
      ]
    },
    {
      "cell_type": "code",
      "source": [
        "# прочитываем все файлы с помощью метода read_text из библиотеки Path\n",
        "# мы можем выполнить это параллельно, \n",
        "# то есть за одну команду одновременно обработать несколько файлов\n",
        "\n",
        "text0, text1, text2 = Path('Geology.txt').read_text(), Path('Lumen-Learning-Geology.txt').read_text(), Path('Physical_Geology_2nd_Ed.txt').read_text()\n",
        "\n",
        "# посмотрим на часть одного из текстов\n",
        "\n",
        "text2[:900]"
      ],
      "metadata": {
        "colab": {
          "base_uri": "https://localhost:8080/",
          "height": 109
        },
        "id": "x5gL6vRtSWb1",
        "outputId": "f151793f-d4d9-4298-a966-0228ab07e101"
      },
      "execution_count": 11,
      "outputs": [
        {
          "output_type": "execute_result",
          "data": {
            "text/plain": [
              "'https://opentextbc.ca/physicalgeology2ed/\\nPhysical Geology - 2nd Edition\\nPhysical Geology - 2nd Edition\\nSteven Earle\\nKarla Panchuk\\nBCcampus\\nVictoria, B.C.\\nIcon for the Creative Commons Attribution 4.0 International License\\n\\nPhysical Geology - 2nd Edition by Steven Earle is licensed under a Creative Commons Attribution 4.0 International License, except where otherwise noted.\\n\\n© 2019 Steven Earle\\n\\nThe CC licence permits you to retain, reuse, copy, redistribute, and revise this book—in whole or in part—for free providing the author is attributed as follows:\\n\\nPhysical Geology – 2nd Edition by Steven Earle is used under a Creative Commons Attribution 4.0 International Licence.\\nIf you redistribute all or part of this book, it is recommended the following statement be added to the copyright page so readers can access the original book at no cost:\\n\\nDownload for free from the B.C. Open Collection'"
            ],
            "application/vnd.google.colaboratory.intrinsic+json": {
              "type": "string"
            }
          },
          "metadata": {},
          "execution_count": 11
        }
      ]
    },
    {
      "cell_type": "code",
      "source": [
        "# сохраним этот отрывок в отдельную переменную для будущих экспериментов c RegEx\n",
        "\n",
        "test = text2[:900]"
      ],
      "metadata": {
        "id": "2d9nkthscumz"
      },
      "execution_count": 63,
      "outputs": []
    },
    {
      "cell_type": "markdown",
      "source": [
        "Какие артефакты бросаются нам в глаза в этом тексте?"
      ],
      "metadata": {
        "id": "Le5G_FYlVSzv"
      }
    },
    {
      "cell_type": "code",
      "source": [
        "# объединим все файлы в один и посмотрим его статистику\n",
        "\n",
        "text = \" \".join([text0, text1, text2])\n",
        "\n",
        "print(f'Статистическое описание сырого документа\\n\\n{Fore.RED}Длина документа:{Style.RESET_ALL} {len(text)} символов\\n\\\n",
        "{Fore.RED}Приблизительное количество слов в документе:{Style.RESET_ALL} {len(text.split(\" \"))}')"
      ],
      "metadata": {
        "colab": {
          "base_uri": "https://localhost:8080/"
        },
        "id": "cSYsSckiTPC7",
        "outputId": "4df4e1f6-5889-46f7-ad43-4c3bbd6f7275"
      },
      "execution_count": 110,
      "outputs": [
        {
          "output_type": "stream",
          "name": "stdout",
          "text": [
            "Статистическое описание сырого документа\n",
            "\n",
            "\u001b[31mДлина документа:\u001b[0m 2452019 символов\n",
            "\u001b[31mПриблизительное количество слов в документе:\u001b[0m 375467\n"
          ]
        }
      ]
    },
    {
      "cell_type": "markdown",
      "source": [
        "Какие статистические данные по сырому тексту нам могут быть интересны?\n",
        "\n",
        "Как их получить?"
      ],
      "metadata": {
        "id": "CZIdmDZ8VZJo"
      }
    },
    {
      "cell_type": "markdown",
      "source": [
        "# Предобработка данных"
      ],
      "metadata": {
        "id": "fkuASPdJV7vx"
      }
    },
    {
      "cell_type": "markdown",
      "source": [
        "## Чистка данных с помощью RegEx\n",
        "\n",
        "Вспомним отрывок одного из текстов:\n",
        "\n",
        "```\n",
        "https://opentextbc.ca/physicalgeology2ed/\\nPhysical Geology - 2nd Edition\\nPhysical Geology - 2nd Edition\\nSteven Earle\\nKarla Panchuk\\nBCcampus\\nVictoria, B.C.\\nIcon for the Creative Commons Attribution 4.0 International License\\n\\nPhysical Geology - 2nd Edition by Steven Earle is licensed under a Creative Commons Attribution 4.0 International License, except where otherwise noted.\\n\\n© 2019 Steven Earle\\n\\nThe CC licence permits you to retain, reuse, copy, redistribute, and revise this book—in whole or in part—for free providing the author is attributed as follows:\\n\\nPhysical Geology – 2nd Edition by Steven Earle is used under a Creative Commons Attribution 4.0 International Licence.\\nIf you redistribute all or part of this book, it is recommended the following statement be added to the copyright page so readers can access the original book at no cost:\\n\\nDownload for free from the B.C. Open Collection\n",
        "\n",
        "```\n",
        "\n",
        "Мы обратили внимание на некоторые артефакты:\n",
        "\n",
        "* ссылки\n",
        "* абзацные отступы\n",
        "* специальные символы, например `©`\n",
        "* ???\n",
        "\n",
        "Проверим, верна ли наша гипотеза.\n",
        "\n",
        "\n"
      ],
      "metadata": {
        "id": "-buEWbXzXMVF"
      }
    },
    {
      "cell_type": "code",
      "source": [
        "# ссылки\n",
        "\n",
        "link_pattern = re.compile(r'https?://\\S+|www\\.\\S+')\n",
        "links = re.findall(link_pattern, text)\n",
        "\n",
        "print(f'{Fore.RED}Количество обнаруженных ссылок:{Style.RESET_ALL} {len(links)}\\n{Fore.RED}Образцы ссылок:{Style.RESET_ALL} {links[:3]}')\n",
        "\n",
        "# специальные символы\n",
        "\n",
        "symbol_pattern = re.compile(r'[^a-zA-Z0-9 .,:;…()!?\\-—]+')\n",
        "symbols = re.findall(symbol_pattern, text)\n",
        "\n",
        "print(f'\\n{Fore.RED}Количество обнаруженных специальных символов:{Style.RESET_ALL} {len(symbols)}\\n{Fore.RED}Образцы уникальных символов:{Style.RESET_ALL} {set(symbols[500:1000])}')\n",
        "\n",
        "# любые символы\n",
        "\n",
        "any_symbol_pattern = re.compile(r'[^a-zA-Z ]+')\n",
        "all_symbols = re.findall(any_symbol_pattern, text)\n",
        "\n",
        "print(f'\\n{Fore.RED}Количество обнаруженных символов:{Style.RESET_ALL} {len(all_symbols)}\\n{Fore.RED}Образцы уникальных символов:{Style.RESET_ALL} {set(all_symbols[500:600])}')"
      ],
      "metadata": {
        "colab": {
          "base_uri": "https://localhost:8080/"
        },
        "id": "wuF1R3sTUjoX",
        "outputId": "3166927e-b4fe-45c6-8c67-22de0213deee"
      },
      "execution_count": 111,
      "outputs": [
        {
          "output_type": "stream",
          "name": "stdout",
          "text": [
            "\u001b[31mКоличество обнаруженных ссылок:\u001b[0m 341\n",
            "\u001b[31mОбразцы ссылок:\u001b[0m ['https://opengeology.org/textbook/1-understanding-science/', 'https://www.columbiabasin.edu/.', 'http://www.ck12.org/book/CK-12-Earth-Science-For-Middle-School/section/1.2/.']\n",
            "\n",
            "\u001b[31mКоличество обнаруженных специальных символов:\u001b[0m 23382\n",
            "\u001b[31mОбразцы уникальных символов:\u001b[0m {'·', 'ʻ', '>', 'ᐧ', '°/', '/', '&', ']', '’', '+', '°', '•', '‘', '\\n\\n\\n\\n', '“', '\\n\\n\\n', '<', \"'\", 'ö', 'í', 'ʻā', '”', '%', '\\n\\n\\n\\n\\n\\n', '–', '\\n\\n\\n\\n\\n', '\\n', '['}\n",
            "\n",
            "\u001b[31mКоличество обнаруженных символов:\u001b[0m 76614\n",
            "\u001b[31mОбразцы уникальных символов:\u001b[0m {'.\\n1.5.3', '-', ';', '.', '2.\\n', '(', '.\\n1.5.2', ',', '’', ':', ').\\n', '),', '\\n', '—', '.\\n'}\n"
          ]
        }
      ]
    },
    {
      "cell_type": "markdown",
      "source": [
        "Мы хотим проверить, какое влияние окажет удаление знаков препинания на результат работы нашей программы.\n",
        "\n",
        "Для этого создадим три функции для чистки текста: \n",
        "- первая сохраняет знаки препинания и цифры\n",
        "- вторая очищает текст от знаков препинания\n",
        "- третья удаляет все символы кроме букв"
      ],
      "metadata": {
        "id": "L2rjTRHObkbx"
      }
    },
    {
      "cell_type": "code",
      "source": [
        "def clean(text):\n",
        "  ### сохраняет знаки препинания и цифры ###\n",
        "\n",
        "  # удаляем из текста ссылки \n",
        "  text = re.sub('https?://\\S+|www\\.\\S+', ' ', text)\n",
        "  \n",
        "  # удаляем специальные символы\n",
        "  # оставляем знаки препинания и цифры\n",
        "  text = re.sub('[^a-zA-Z0-9 .,:;…()!?\\-—]+', ' ', text)\n",
        "\n",
        "  # возвращаем текст, очищенный от лишних пробелов\n",
        "  # которые появились в результате обработки\n",
        "  return re.sub('\\s+', ' ', text)\n",
        "\n",
        "def full_clean(text):\n",
        "  ### очищает текст от знаков препинания ###\n",
        "\n",
        "  # удаляем из текста ссылки \n",
        "  text = re.sub('https?://\\S+|www\\.\\S+', ' ', text)\n",
        "  \n",
        "  # удаляем специальные символы\n",
        "  # оставляем цифры\n",
        "  text = re.sub('[^a-zA-Z0-9 ]+', ' ', text)\n",
        "\n",
        "  # возвращаем текст, очищенный от лишних пробелов\n",
        "  # которые появились в результате обработки\n",
        "  return re.sub('\\s+', ' ', text)\n",
        "\n",
        "def digits_clean(text):\n",
        "  ### удаляет все символы кроме букв ###\n",
        "\n",
        "  # удаляем из текста ссылки \n",
        "  text = re.sub('https?://\\S+|www\\.\\S+', ' ', text)\n",
        "  \n",
        "  # удаляем специальные символы\n",
        "  # удаляем цифры\n",
        "  text = re.sub('[^a-zA-Z ]+', ' ', text)\n",
        "\n",
        "  # возвращаем текст, очищенный от лишних пробелов\n",
        "  # которые появились в результате обработки\n",
        "  return re.sub('\\s+', ' ', text)"
      ],
      "metadata": {
        "id": "OgOxBy_lYnwJ"
      },
      "execution_count": 99,
      "outputs": []
    },
    {
      "cell_type": "code",
      "source": [
        "cleaned, full_cleaned, digits_cleaned = clean(test), full_clean(test), digits_clean(test)\n",
        "\n",
        "print(f'Пример очистки текста\\n\\n{Fore.RED}Тестовый образец:{Style.RESET_ALL}\\n\"{test}\"\\n\\n \\\n",
        "{Fore.RED}* Образец, очищенный с помощью функции clean (сохраняет знаки препинания и цифры){Style.RESET_ALL}\\n\"{cleaned}\"\\n\\n \\\n",
        "{Fore.RED}* Образец, очищенный с помощью функции full_clean (очищает текст от знаков препинания){Style.RESET_ALL}\\n\"{full_cleaned}\"\\n\\n \\\n",
        "{Fore.RED}* Образец, очищенный с помощью функции digits_clean (удаляет все символы кроме букв){Style.RESET_ALL}\\n\"{digits_cleaned}\"')"
      ],
      "metadata": {
        "colab": {
          "base_uri": "https://localhost:8080/"
        },
        "id": "dzfL19H4cb8Q",
        "outputId": "c2ee64be-5538-45f5-e2cd-6bba7be92686"
      },
      "execution_count": 113,
      "outputs": [
        {
          "output_type": "stream",
          "name": "stdout",
          "text": [
            "Пример очистки текста\n",
            "\n",
            "\u001b[31mТестовый образец:\u001b[0m\n",
            "\"https://opentextbc.ca/physicalgeology2ed/\n",
            "Physical Geology - 2nd Edition\n",
            "Physical Geology - 2nd Edition\n",
            "Steven Earle\n",
            "Karla Panchuk\n",
            "BCcampus\n",
            "Victoria, B.C.\n",
            "Icon for the Creative Commons Attribution 4.0 International License\n",
            "\n",
            "Physical Geology - 2nd Edition by Steven Earle is licensed under a Creative Commons Attribution 4.0 International License, except where otherwise noted.\n",
            "\n",
            "© 2019 Steven Earle\n",
            "\n",
            "The CC licence permits you to retain, reuse, copy, redistribute, and revise this book—in whole or in part—for free providing the author is attributed as follows:\n",
            "\n",
            "Physical Geology – 2nd Edition by Steven Earle is used under a Creative Commons Attribution 4.0 International Licence.\n",
            "If you redistribute all or part of this book, it is recommended the following statement be added to the copyright page so readers can access the original book at no cost:\n",
            "\n",
            "Download for free from the B.C. Open Collection\"\n",
            "\n",
            " \u001b[31m* Образец, очищенный с помощью функции clean (сохраняет знаки препинания и цифры)\u001b[0m\n",
            "\" Physical Geology - 2nd Edition Physical Geology - 2nd Edition Steven Earle Karla Panchuk BCcampus Victoria, B.C. Icon for the Creative Commons Attribution 4.0 International License Physical Geology - 2nd Edition by Steven Earle is licensed under a Creative Commons Attribution 4.0 International License, except where otherwise noted. 2019 Steven Earle The CC licence permits you to retain, reuse, copy, redistribute, and revise this book—in whole or in part—for free providing the author is attributed as follows: Physical Geology 2nd Edition by Steven Earle is used under a Creative Commons Attribution 4.0 International Licence. If you redistribute all or part of this book, it is recommended the following statement be added to the copyright page so readers can access the original book at no cost: Download for free from the B.C. Open Collection\"\n",
            "\n",
            " \u001b[31m* Образец, очищенный с помощью функции full_clean (очищает текст от знаков препинания)\u001b[0m\n",
            "\" Physical Geology 2nd Edition Physical Geology 2nd Edition Steven Earle Karla Panchuk BCcampus Victoria B C Icon for the Creative Commons Attribution 4 0 International License Physical Geology 2nd Edition by Steven Earle is licensed under a Creative Commons Attribution 4 0 International License except where otherwise noted 2019 Steven Earle The CC licence permits you to retain reuse copy redistribute and revise this book in whole or in part for free providing the author is attributed as follows Physical Geology 2nd Edition by Steven Earle is used under a Creative Commons Attribution 4 0 International Licence If you redistribute all or part of this book it is recommended the following statement be added to the copyright page so readers can access the original book at no cost Download for free from the B C Open Collection\"\n",
            "\n",
            " \u001b[31m* Образец, очищенный с помощью функции digits_clean (удаляет все символы кроме букв)\u001b[0m\n",
            "\" Physical Geology nd Edition Physical Geology nd Edition Steven Earle Karla Panchuk BCcampus Victoria B C Icon for the Creative Commons Attribution International License Physical Geology nd Edition by Steven Earle is licensed under a Creative Commons Attribution International License except where otherwise noted Steven Earle The CC licence permits you to retain reuse copy redistribute and revise this book in whole or in part for free providing the author is attributed as follows Physical Geology nd Edition by Steven Earle is used under a Creative Commons Attribution International Licence If you redistribute all or part of this book it is recommended the following statement be added to the copyright page so readers can access the original book at no cost Download for free from the B C Open Collection\"\n"
          ]
        }
      ]
    },
    {
      "cell_type": "code",
      "source": [
        "### TODO:\n",
        "### токенизатор gensim\n",
        "### новые стоп-слова\n",
        "### би- и триграммные модели gensim\n",
        "### посчитать TF \n",
        "### сделать частотный словарь "
      ],
      "metadata": {
        "id": "p5s-zHu1c8pc"
      },
      "execution_count": null,
      "outputs": []
    }
  ]
}