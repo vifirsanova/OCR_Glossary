{
  "cells": [
    {
      "cell_type": "markdown",
      "metadata": {
        "id": "view-in-github",
        "colab_type": "text"
      },
      "source": [
        "<a href=\"https://colab.research.google.com/github/vifirsanova/OCR_Glossary/blob/main/workbook_collocations.ipynb\" target=\"_parent\"><img src=\"https://colab.research.google.com/assets/colab-badge.svg\" alt=\"Open In Colab\"/></a>"
      ]
    },
    {
      "cell_type": "code",
      "execution_count": 1,
      "metadata": {
        "id": "70D5bjlyiAY4"
      },
      "outputs": [],
      "source": [
        "### ноутбук будет дополнен"
      ]
    },
    {
      "cell_type": "markdown",
      "metadata": {
        "id": "TCHQ8GKOR2Gk"
      },
      "source": [
        "# Импорт библиотек"
      ]
    },
    {
      "cell_type": "code",
      "execution_count": 2,
      "metadata": {
        "colab": {
          "base_uri": "https://localhost:8080/"
        },
        "id": "N1YGn1lbiur-",
        "outputId": "15aa1908-ac2a-4714-e0de-77257b788472"
      },
      "outputs": [
        {
          "output_type": "stream",
          "name": "stdout",
          "text": [
            "Looking in indexes: https://pypi.org/simple, https://us-python.pkg.dev/colab-wheels/public/simple/\n",
            "Requirement already satisfied: colorama in /usr/local/lib/python3.8/dist-packages (0.4.6)\n"
          ]
        }
      ],
      "source": [
        "# использование цвета для вывода на экран\n",
        "!pip install colorama"
      ]
    },
    {
      "cell_type": "code",
      "execution_count": 3,
      "metadata": {
        "colab": {
          "base_uri": "https://localhost:8080/"
        },
        "id": "4f7L71u0R1MK",
        "outputId": "5f8156ec-de29-4f45-9809-8dd7ffd3643a"
      },
      "outputs": [
        {
          "output_type": "stream",
          "name": "stderr",
          "text": [
            "[nltk_data] Downloading package punkt to /root/nltk_data...\n",
            "[nltk_data]   Package punkt is already up-to-date!\n",
            "[nltk_data] Downloading package stopwords to /root/nltk_data...\n",
            "[nltk_data]   Unzipping corpora/stopwords.zip.\n",
            "/usr/local/lib/python3.8/dist-packages/torch/cuda/__init__.py:497: UserWarning: Can't initialize NVML\n",
            "  warnings.warn(\"Can't initialize NVML\")\n"
          ]
        }
      ],
      "source": [
        "from pathlib import Path\n",
        "import re\n",
        "from colorama import Fore, Style\n",
        "import nltk\n",
        "nltk.download('punkt')\n",
        "nltk.download('stopwords')\n",
        "from nltk.tokenize import word_tokenize \n",
        "from gensim.utils import simple_preprocess\n",
        "from nltk.corpus import stopwords\n",
        "import spacy\n",
        "from gensim.parsing.preprocessing import STOPWORDS\n",
        "from gensim.models import Phrases\n",
        "from gensim.models.phrases import Phraser\n",
        "import numpy as np\n",
        "from gensim.corpora import Dictionary\n",
        "import pandas as pd"
      ]
    },
    {
      "cell_type": "markdown",
      "metadata": {
        "id": "S0vYorJxRvqM"
      },
      "source": [
        "# Загрузка нескольких файлов\n",
        "\n",
        "* загружаем файлы из GitHub\n",
        "* соединяем их в одной переменной"
      ]
    },
    {
      "cell_type": "code",
      "execution_count": 4,
      "metadata": {
        "colab": {
          "base_uri": "https://localhost:8080/"
        },
        "id": "Q03QcHD83KI3",
        "outputId": "e56aa1b4-bcbb-4bc0-bca7-108e076891e6"
      },
      "outputs": [
        {
          "output_type": "stream",
          "name": "stdout",
          "text": [
            "--2023-02-01 14:22:09--  https://raw.githubusercontent.com/vifirsanova/OCR_Glossary/main/Geology.txt\n",
            "Resolving raw.githubusercontent.com (raw.githubusercontent.com)... 185.199.108.133, 185.199.111.133, 185.199.110.133, ...\n",
            "Connecting to raw.githubusercontent.com (raw.githubusercontent.com)|185.199.108.133|:443... connected.\n",
            "HTTP request sent, awaiting response... 200 OK\n",
            "Length: 207953 (203K) [text/plain]\n",
            "Saving to: ‘Geology.txt.2’\n",
            "\n",
            "\rGeology.txt.2         0%[                    ]       0  --.-KB/s               \rGeology.txt.2       100%[===================>] 203.08K  --.-KB/s    in 0.03s   \n",
            "\n",
            "2023-02-01 14:22:09 (5.85 MB/s) - ‘Geology.txt.2’ saved [207953/207953]\n",
            "\n",
            "--2023-02-01 14:22:10--  https://raw.githubusercontent.com/vifirsanova/OCR_Glossary/main/Physical_Geology_2nd_Ed.txt\n",
            "Resolving raw.githubusercontent.com (raw.githubusercontent.com)... 185.199.108.133, 185.199.109.133, 185.199.110.133, ...\n",
            "Connecting to raw.githubusercontent.com (raw.githubusercontent.com)|185.199.108.133|:443... connected.\n",
            "HTTP request sent, awaiting response... 200 OK\n",
            "Length: 1268676 (1.2M) [text/plain]\n",
            "Saving to: ‘Physical_Geology_2nd_Ed.txt.2’\n",
            "\n",
            "Physical_Geology_2n 100%[===================>]   1.21M  --.-KB/s    in 0.05s   \n",
            "\n",
            "2023-02-01 14:22:10 (22.4 MB/s) - ‘Physical_Geology_2nd_Ed.txt.2’ saved [1268676/1268676]\n",
            "\n",
            "--2023-02-01 14:22:10--  https://raw.githubusercontent.com/vifirsanova/OCR_Glossary/main/Lumen-Learning-Geology.txt\n",
            "Resolving raw.githubusercontent.com (raw.githubusercontent.com)... 185.199.108.133, 185.199.109.133, 185.199.110.133, ...\n",
            "Connecting to raw.githubusercontent.com (raw.githubusercontent.com)|185.199.108.133|:443... connected.\n",
            "HTTP request sent, awaiting response... 200 OK\n",
            "Length: 994855 (972K) [text/plain]\n",
            "Saving to: ‘Lumen-Learning-Geology.txt.2’\n",
            "\n",
            "Lumen-Learning-Geol 100%[===================>] 971.54K  --.-KB/s    in 0.05s   \n",
            "\n",
            "2023-02-01 14:22:10 (20.4 MB/s) - ‘Lumen-Learning-Geology.txt.2’ saved [994855/994855]\n",
            "\n"
          ]
        }
      ],
      "source": [
        "!wget https://raw.githubusercontent.com/vifirsanova/OCR_Glossary/main/Geology.txt\n",
        "!wget https://raw.githubusercontent.com/vifirsanova/OCR_Glossary/main/Physical_Geology_2nd_Ed.txt\n",
        "!wget https://raw.githubusercontent.com/vifirsanova/OCR_Glossary/main/Lumen-Learning-Geology.txt"
      ]
    },
    {
      "cell_type": "code",
      "execution_count": 5,
      "metadata": {
        "colab": {
          "base_uri": "https://localhost:8080/"
        },
        "id": "VZElSXo0SVFr",
        "outputId": "7ee81048-0562-47d7-d1de-83963f3c51fa"
      },
      "outputs": [
        {
          "output_type": "stream",
          "name": "stdout",
          "text": [
            "Geology.txt\t\t      Lumen-Learning-Geology.txt.2\n",
            "Geology.txt.1\t\t      Physical_Geology_2nd_Ed.txt\n",
            "Geology.txt.2\t\t      Physical_Geology_2nd_Ed.txt.1\n",
            "Lumen-Learning-Geology.txt    Physical_Geology_2nd_Ed.txt.2\n",
            "Lumen-Learning-Geology.txt.1  sample_data\n"
          ]
        }
      ],
      "source": [
        "# проверяем наличие загруженных файлов в директории\n",
        "# с помощью консольной команды ls\n",
        "\n",
        "!ls"
      ]
    },
    {
      "cell_type": "code",
      "execution_count": 6,
      "metadata": {
        "colab": {
          "base_uri": "https://localhost:8080/",
          "height": 127
        },
        "id": "x5gL6vRtSWb1",
        "outputId": "243940e1-aedb-4aac-9429-2e46ca83a839"
      },
      "outputs": [
        {
          "output_type": "execute_result",
          "data": {
            "text/plain": [
              "'https://opentextbc.ca/physicalgeology2ed/\\nPhysical Geology - 2nd Edition\\nPhysical Geology - 2nd Edition\\nSteven Earle\\nKarla Panchuk\\nBCcampus\\nVictoria, B.C.\\nIcon for the Creative Commons Attribution 4.0 International License\\n\\nPhysical Geology - 2nd Edition by Steven Earle is licensed under a Creative Commons Attribution 4.0 International License, except where otherwise noted.\\n\\n© 2019 Steven Earle\\n\\nThe CC licence permits you to retain, reuse, copy, redistribute, and revise this book—in whole or in part—for free providing the author is attributed as follows:\\n\\nPhysical Geology – 2nd Edition by Steven Earle is used under a Creative Commons Attribution 4.0 International Licence.\\nIf you redistribute all or part of this book, it is recommended the following statement be added to the copyright page so readers can access the original book at no cost:\\n\\nDownload for free from the B.C. Open Collection'"
            ],
            "application/vnd.google.colaboratory.intrinsic+json": {
              "type": "string"
            }
          },
          "metadata": {},
          "execution_count": 6
        }
      ],
      "source": [
        "# прочитываем все файлы с помощью метода read_text из библиотеки Path\n",
        "# мы можем выполнить это параллельно, \n",
        "# то есть за одну команду одновременно обработать несколько файлов\n",
        "\n",
        "text0, text1, text2 = Path('Geology.txt').read_text(), Path('Lumen-Learning-Geology.txt').read_text(), Path('Physical_Geology_2nd_Ed.txt').read_text()\n",
        "\n",
        "# посмотрим на часть одного из текстов\n",
        "\n",
        "text2[:900]"
      ]
    },
    {
      "cell_type": "code",
      "execution_count": 7,
      "metadata": {
        "id": "2d9nkthscumz"
      },
      "outputs": [],
      "source": [
        "# сохраним этот отрывок в отдельную переменную для будущих экспериментов c RegEx\n",
        "\n",
        "test = text2[:900]"
      ]
    },
    {
      "cell_type": "markdown",
      "metadata": {
        "id": "Le5G_FYlVSzv"
      },
      "source": [
        "Какие артефакты бросаются нам в глаза в этом тексте?"
      ]
    },
    {
      "cell_type": "code",
      "execution_count": 8,
      "metadata": {
        "colab": {
          "base_uri": "https://localhost:8080/"
        },
        "id": "cSYsSckiTPC7",
        "outputId": "c63bb337-2244-4717-f95a-116371887a4a"
      },
      "outputs": [
        {
          "output_type": "stream",
          "name": "stdout",
          "text": [
            "Статистическое описание сырого документа\n",
            "\n",
            "\u001b[31mДлина документа:\u001b[0m 2452019 символов\n",
            "\u001b[31mПриблизительное количество слов в документе:\u001b[0m 375467\n"
          ]
        }
      ],
      "source": [
        "# объединим все файлы в один и посмотрим его статистику\n",
        "\n",
        "text = \" \".join([text0, text1, text2])\n",
        "\n",
        "print(f'Статистическое описание сырого документа\\n\\n{Fore.RED}Длина документа:{Style.RESET_ALL} {len(text)} символов\\n\\\n",
        "{Fore.RED}Приблизительное количество слов в документе:{Style.RESET_ALL} {len(text.split(\" \"))}')"
      ]
    },
    {
      "cell_type": "markdown",
      "metadata": {
        "id": "CZIdmDZ8VZJo"
      },
      "source": [
        "Какие статистические данные по сырому тексту нам могут быть интересны?\n",
        "\n",
        "Как их получить?"
      ]
    },
    {
      "cell_type": "markdown",
      "metadata": {
        "id": "fkuASPdJV7vx"
      },
      "source": [
        "# Предобработка данных"
      ]
    },
    {
      "cell_type": "markdown",
      "metadata": {
        "id": "-buEWbXzXMVF"
      },
      "source": [
        "## Чистка данных с помощью RegEx\n",
        "\n",
        "Вспомним отрывок одного из текстов:\n",
        "\n",
        "```\n",
        "https://opentextbc.ca/physicalgeology2ed/\\nPhysical Geology - 2nd Edition\\nPhysical Geology - 2nd Edition\\nSteven Earle\\nKarla Panchuk\\nBCcampus\\nVictoria, B.C.\\nIcon for the Creative Commons Attribution 4.0 International License\\n\\nPhysical Geology - 2nd Edition by Steven Earle is licensed under a Creative Commons Attribution 4.0 International License, except where otherwise noted.\\n\\n© 2019 Steven Earle\\n\\nThe CC licence permits you to retain, reuse, copy, redistribute, and revise this book—in whole or in part—for free providing the author is attributed as follows:\\n\\nPhysical Geology – 2nd Edition by Steven Earle is used under a Creative Commons Attribution 4.0 International Licence.\\nIf you redistribute all or part of this book, it is recommended the following statement be added to the copyright page so readers can access the original book at no cost:\\n\\nDownload for free from the B.C. Open Collection\n",
        "\n",
        "```\n",
        "\n",
        "Мы обратили внимание на некоторые артефакты:\n",
        "\n",
        "* ссылки\n",
        "* абзацные отступы\n",
        "* специальные символы, например `©`\n",
        "* ???\n",
        "\n",
        "Проверим, верна ли наша гипотеза.\n",
        "\n",
        "\n"
      ]
    },
    {
      "cell_type": "code",
      "execution_count": 9,
      "metadata": {
        "colab": {
          "base_uri": "https://localhost:8080/"
        },
        "id": "wuF1R3sTUjoX",
        "outputId": "2639c1a7-10dd-43f6-8b65-d4445ef048fc"
      },
      "outputs": [
        {
          "output_type": "stream",
          "name": "stdout",
          "text": [
            "\u001b[31mКоличество обнаруженных ссылок:\u001b[0m 341\n",
            "\u001b[31mОбразцы ссылок:\u001b[0m ['https://opengeology.org/textbook/1-understanding-science/', 'https://www.columbiabasin.edu/.', 'http://www.ck12.org/book/CK-12-Earth-Science-For-Middle-School/section/1.2/.']\n",
            "\n",
            "\u001b[31mКоличество обнаруженных специальных символов:\u001b[0m 23382\n",
            "\u001b[31mОбразцы уникальных символов:\u001b[0m {'\\n', '–', '%', '•', '”', \"'\", '\\n\\n\\n\\n\\n', 'ʻ', '°/', 'í', '\\n\\n\\n', '+', '“', 'ᐧ', '>', '<', '’', '‘', 'ö', '·', '\\n\\n\\n\\n', ']', '°', 'ʻā', '/', '[', '\\n\\n\\n\\n\\n\\n', '&'}\n",
            "\n",
            "\u001b[31mКоличество обнаруженных символов:\u001b[0m 76614\n",
            "\u001b[31mОбразцы уникальных символов:\u001b[0m {'—', ':', ',', '-', '\\n', '2.\\n', '’', ').\\n', '(', ';', '.\\n1.5.2', '.', '),', '.\\n1.5.3', '.\\n'}\n"
          ]
        }
      ],
      "source": [
        "# ссылки\n",
        "\n",
        "link_pattern = re.compile(r'https?://\\S+|www\\.\\S+')\n",
        "links = re.findall(link_pattern, text)\n",
        "\n",
        "print(f'{Fore.RED}Количество обнаруженных ссылок:{Style.RESET_ALL} {len(links)}\\n{Fore.RED}Образцы ссылок:{Style.RESET_ALL} {links[:3]}')\n",
        "\n",
        "# специальные символы\n",
        "\n",
        "symbol_pattern = re.compile(r'[^a-zA-Z0-9 .,:;…()!?\\-—]+')\n",
        "symbols = re.findall(symbol_pattern, text)\n",
        "\n",
        "print(f'\\n{Fore.RED}Количество обнаруженных специальных символов:{Style.RESET_ALL} {len(symbols)}\\n{Fore.RED}Образцы уникальных символов:{Style.RESET_ALL} {set(symbols[500:1000])}')\n",
        "\n",
        "# любые символы\n",
        "\n",
        "any_symbol_pattern = re.compile(r'[^a-zA-Z ]+')\n",
        "all_symbols = re.findall(any_symbol_pattern, text)\n",
        "\n",
        "print(f'\\n{Fore.RED}Количество обнаруженных символов:{Style.RESET_ALL} {len(all_symbols)}\\n{Fore.RED}Образцы уникальных символов:{Style.RESET_ALL} {set(all_symbols[500:600])}')"
      ]
    },
    {
      "cell_type": "markdown",
      "metadata": {
        "id": "L2rjTRHObkbx"
      },
      "source": [
        "Мы хотим проверить, какое влияние окажет удаление знаков препинания на результат работы нашей программы.\n",
        "\n",
        "Для этого создадим три функции для чистки текста: \n",
        "- первая сохраняет знаки препинания и цифры\n",
        "- вторая очищает текст от знаков препинания\n",
        "- третья удаляет все символы кроме букв"
      ]
    },
    {
      "cell_type": "code",
      "execution_count": 10,
      "metadata": {
        "id": "OgOxBy_lYnwJ"
      },
      "outputs": [],
      "source": [
        "def clean(text):\n",
        "  ### сохраняет знаки препинания и цифры ###\n",
        "\n",
        "  # удаляем из текста ссылки \n",
        "  text = re.sub('https?://\\S+|www\\.\\S+', ' ', text)\n",
        "  \n",
        "  # удаляем специальные символы\n",
        "  # оставляем знаки препинания и цифры\n",
        "  text = re.sub('[^a-zA-Z0-9 .,:;…()!?\\-—]+', ' ', text)\n",
        "\n",
        "  # возвращаем текст, очищенный от лишних пробелов\n",
        "  # которые появились в результате обработки\n",
        "  return re.sub('\\s+', ' ', text)\n",
        "\n",
        "def full_clean(text):\n",
        "  ### очищает текст от знаков препинания ###\n",
        "\n",
        "  # удаляем из текста ссылки \n",
        "  text = re.sub('https?://\\S+|www\\.\\S+', ' ', text)\n",
        "  \n",
        "  # удаляем специальные символы\n",
        "  # оставляем цифры\n",
        "  text = re.sub('[^a-zA-Z0-9 ]+', ' ', text)\n",
        "\n",
        "  # возвращаем текст, очищенный от лишних пробелов\n",
        "  # которые появились в результате обработки\n",
        "  return re.sub('\\s+', ' ', text)\n",
        "\n",
        "def digits_clean(text):\n",
        "  ### удаляет все символы кроме букв ###\n",
        "\n",
        "  # удаляем из текста ссылки \n",
        "  text = re.sub('https?://\\S+|www\\.\\S+', ' ', text)\n",
        "  \n",
        "  # удаляем специальные символы\n",
        "  # удаляем цифры\n",
        "  text = re.sub('[^a-zA-Z ]+', ' ', text)\n",
        "\n",
        "  # возвращаем текст, очищенный от лишних пробелов\n",
        "  # которые появились в результате обработки\n",
        "  return re.sub('\\s+', ' ', text)"
      ]
    },
    {
      "cell_type": "code",
      "execution_count": 11,
      "metadata": {
        "colab": {
          "base_uri": "https://localhost:8080/"
        },
        "id": "dzfL19H4cb8Q",
        "outputId": "5296b438-5766-4813-e503-4400f53526a2"
      },
      "outputs": [
        {
          "output_type": "stream",
          "name": "stdout",
          "text": [
            "Пример очистки текста\n",
            "\n",
            "\u001b[31mТестовый образец:\u001b[0m\n",
            "\"https://opentextbc.ca/physicalgeology2ed/\n",
            "Physical Geology - 2nd Edition\n",
            "Physical Geology - 2nd Edition\n",
            "Steven Earle\n",
            "Karla Panchuk\n",
            "BCcampus\n",
            "Victoria, B.C.\n",
            "Icon for the Creative Commons Attribution 4.0 International License\n",
            "\n",
            "Physical Geology - 2nd Edition by Steven Earle is licensed under a Creative Commons Attribution 4.0 International License, except where otherwise noted.\n",
            "\n",
            "© 2019 Steven Earle\n",
            "\n",
            "The CC licence permits you to retain, reuse, copy, redistribute, and revise this book—in whole or in part—for free providing the author is attributed as follows:\n",
            "\n",
            "Physical Geology – 2nd Edition by Steven Earle is used under a Creative Commons Attribution 4.0 International Licence.\n",
            "If you redistribute all or part of this book, it is recommended the following statement be added to the copyright page so readers can access the original book at no cost:\n",
            "\n",
            "Download for free from the B.C. Open Collection\"\n",
            "\n",
            " \u001b[31m* Образец, очищенный с помощью функции clean (сохраняет знаки препинания и цифры)\u001b[0m\n",
            "\" Physical Geology - 2nd Edition Physical Geology - 2nd Edition Steven Earle Karla Panchuk BCcampus Victoria, B.C. Icon for the Creative Commons Attribution 4.0 International License Physical Geology - 2nd Edition by Steven Earle is licensed under a Creative Commons Attribution 4.0 International License, except where otherwise noted. 2019 Steven Earle The CC licence permits you to retain, reuse, copy, redistribute, and revise this book—in whole or in part—for free providing the author is attributed as follows: Physical Geology 2nd Edition by Steven Earle is used under a Creative Commons Attribution 4.0 International Licence. If you redistribute all or part of this book, it is recommended the following statement be added to the copyright page so readers can access the original book at no cost: Download for free from the B.C. Open Collection\"\n",
            "\n",
            " \u001b[31m* Образец, очищенный с помощью функции full_clean (очищает текст от знаков препинания)\u001b[0m\n",
            "\" Physical Geology 2nd Edition Physical Geology 2nd Edition Steven Earle Karla Panchuk BCcampus Victoria B C Icon for the Creative Commons Attribution 4 0 International License Physical Geology 2nd Edition by Steven Earle is licensed under a Creative Commons Attribution 4 0 International License except where otherwise noted 2019 Steven Earle The CC licence permits you to retain reuse copy redistribute and revise this book in whole or in part for free providing the author is attributed as follows Physical Geology 2nd Edition by Steven Earle is used under a Creative Commons Attribution 4 0 International Licence If you redistribute all or part of this book it is recommended the following statement be added to the copyright page so readers can access the original book at no cost Download for free from the B C Open Collection\"\n",
            "\n",
            " \u001b[31m* Образец, очищенный с помощью функции digits_clean (удаляет все символы кроме букв)\u001b[0m\n",
            "\" Physical Geology nd Edition Physical Geology nd Edition Steven Earle Karla Panchuk BCcampus Victoria B C Icon for the Creative Commons Attribution International License Physical Geology nd Edition by Steven Earle is licensed under a Creative Commons Attribution International License except where otherwise noted Steven Earle The CC licence permits you to retain reuse copy redistribute and revise this book in whole or in part for free providing the author is attributed as follows Physical Geology nd Edition by Steven Earle is used under a Creative Commons Attribution International Licence If you redistribute all or part of this book it is recommended the following statement be added to the copyright page so readers can access the original book at no cost Download for free from the B C Open Collection\"\n"
          ]
        }
      ],
      "source": [
        "cleaned, full_cleaned, digits_cleaned = clean(test), full_clean(test), digits_clean(test)\n",
        "\n",
        "print(f'Пример очистки текста\\n\\n{Fore.RED}Тестовый образец:{Style.RESET_ALL}\\n\"{test}\"\\n\\n \\\n",
        "{Fore.RED}* Образец, очищенный с помощью функции clean (сохраняет знаки препинания и цифры){Style.RESET_ALL}\\n\"{cleaned}\"\\n\\n \\\n",
        "{Fore.RED}* Образец, очищенный с помощью функции full_clean (очищает текст от знаков препинания){Style.RESET_ALL}\\n\"{full_cleaned}\"\\n\\n \\\n",
        "{Fore.RED}* Образец, очищенный с помощью функции digits_clean (удаляет все символы кроме букв){Style.RESET_ALL}\\n\"{digits_cleaned}\"')"
      ]
    },
    {
      "cell_type": "markdown",
      "metadata": {
        "id": "uBwi-Suv7r_p"
      },
      "source": [
        "## Токенизация\n",
        "\n",
        "Рассмотрим несколько способов токенизации и создадим для каждого отдельную функцию."
      ]
    },
    {
      "cell_type": "code",
      "execution_count": 12,
      "metadata": {
        "id": "wqyH5Qhg77mq"
      },
      "outputs": [],
      "source": [
        "# простая токенизация\n",
        "\n",
        "def simple_tokenizer(text):\n",
        "  # принимает на вход текст\n",
        "  # приводит текст к нижнем регистру с помощью lower()\n",
        "  # \"рубит\" текст на элементы, разделенные пробелом (слова)\n",
        "  return text.lower().split(' ')\n",
        "\n",
        "# токенизация методами NLTK\n",
        "\n",
        "def nltk_tokenizer(text):\n",
        "  # применяет метод word_tokenize из nltk к тексту\n",
        "  return word_tokenize(text)\n",
        "\n",
        "# токенизация с помощью gensim\n",
        "\n",
        "def gensim_tokenizer(text, deacc):\n",
        "  # применяет метод simple_preprocess из gensim к тексту\n",
        "  # encode: кодировка текст\n",
        "  # deacc удаляет знаки препинания, принимает значения True / False\n",
        "  return simple_preprocess(str(text).encode('utf-8'), deacc)"
      ]
    },
    {
      "cell_type": "code",
      "execution_count": 13,
      "metadata": {
        "colab": {
          "base_uri": "https://localhost:8080/"
        },
        "id": "9yJGdP0B9AcR",
        "outputId": "809c27ae-0215-4706-f667-b53f303d38f9"
      },
      "outputs": [
        {
          "output_type": "stream",
          "name": "stdout",
          "text": [
            "Пример токенизации текста\n",
            "\n",
            "\u001b[31mТестовый образец:\u001b[0m\n",
            "\" Physical Geology - 2nd Edition Physical Geology - 2nd Edition Steven Earle Karla Panchuk BCcampus Victoria, B.C. Icon for the Creative Commons Attribution 4.0 International License Physical Geology - 2nd Edition by Steven Earle is licensed under a Creative Commons Attribution 4.0 International License, except where otherwise noted. 2019 Steven Earle The CC licence permits you to retain, reuse, copy, redistribute, and revise this book—in whole or in part—for free providing the author is attributed as follows: Physical Geology 2nd Edition by Steven Earle is used under a Creative Commons Attribution 4.0 International Licence. If you redistribute all or part of this book, it is recommended the following statement be added to the copyright page so readers can access the original book at no cost: Download for free from the B.C. Open Collection\"\n",
            "\n",
            " \u001b[31m* Образец, токенизированный с помощью функции simple_tokenizer \u001b[0m\n",
            "\"['', 'physical', 'geology', '-', '2nd', 'edition', 'physical', 'geology', '-', '2nd', 'edition', 'steven', 'earle', 'karla', 'panchuk', 'bccampus', 'victoria,', 'b.c.', 'icon', 'for', 'the', 'creative', 'commons', 'attribution', '4.0', 'international', 'license', 'physical', 'geology', '-', '2nd', 'edition', 'by', 'steven', 'earle', 'is', 'licensed', 'under', 'a', 'creative', 'commons', 'attribution', '4.0', 'international', 'license,', 'except', 'where', 'otherwise', 'noted.', '2019', 'steven', 'earle', 'the', 'cc', 'licence', 'permits', 'you', 'to', 'retain,', 'reuse,', 'copy,', 'redistribute,', 'and', 'revise', 'this', 'book—in', 'whole', 'or', 'in', 'part—for', 'free', 'providing', 'the', 'author', 'is', 'attributed', 'as', 'follows:', 'physical', 'geology', '2nd', 'edition', 'by', 'steven', 'earle', 'is', 'used', 'under', 'a', 'creative', 'commons', 'attribution', '4.0', 'international', 'licence.', 'if', 'you', 'redistribute', 'all', 'or', 'part', 'of', 'this', 'book,', 'it', 'is', 'recommended', 'the', 'following', 'statement', 'be', 'added', 'to', 'the', 'copyright', 'page', 'so', 'readers', 'can', 'access', 'the', 'original', 'book', 'at', 'no', 'cost:', 'download', 'for', 'free', 'from', 'the', 'b.c.', 'open', 'collection']\"\n",
            "\n",
            " \u001b[31m* Образец, токенизированный с помощью функции nltk_tokenizer \u001b[0m\n",
            "\"['Physical', 'Geology', '-', '2nd', 'Edition', 'Physical', 'Geology', '-', '2nd', 'Edition', 'Steven', 'Earle', 'Karla', 'Panchuk', 'BCcampus', 'Victoria', ',', 'B.C', '.', 'Icon', 'for', 'the', 'Creative', 'Commons', 'Attribution', '4.0', 'International', 'License', 'Physical', 'Geology', '-', '2nd', 'Edition', 'by', 'Steven', 'Earle', 'is', 'licensed', 'under', 'a', 'Creative', 'Commons', 'Attribution', '4.0', 'International', 'License', ',', 'except', 'where', 'otherwise', 'noted', '.', '2019', 'Steven', 'Earle', 'The', 'CC', 'licence', 'permits', 'you', 'to', 'retain', ',', 'reuse', ',', 'copy', ',', 'redistribute', ',', 'and', 'revise', 'this', 'book—in', 'whole', 'or', 'in', 'part—for', 'free', 'providing', 'the', 'author', 'is', 'attributed', 'as', 'follows', ':', 'Physical', 'Geology', '2nd', 'Edition', 'by', 'Steven', 'Earle', 'is', 'used', 'under', 'a', 'Creative', 'Commons', 'Attribution', '4.0', 'International', 'Licence', '.', 'If', 'you', 'redistribute', 'all', 'or', 'part', 'of', 'this', 'book', ',', 'it', 'is', 'recommended', 'the', 'following', 'statement', 'be', 'added', 'to', 'the', 'copyright', 'page', 'so', 'readers', 'can', 'access', 'the', 'original', 'book', 'at', 'no', 'cost', ':', 'Download', 'for', 'free', 'from', 'the', 'B.C', '.', 'Open', 'Collection']\"\n",
            "\n",
            " \u001b[31m* Образец, токенизированный с помощью функции gensim_tokenizer \u001b[0m\n",
            "\"['physical', 'geology', 'nd', 'edition', 'physical', 'geology', 'nd', 'edition', 'steven', 'earle', 'karla', 'panchuk', 'bccampus', 'victoria', 'icon', 'for', 'the', 'creative', 'commons', 'attribution', 'international', 'license', 'physical', 'geology', 'nd', 'edition', 'by', 'steven', 'earle', 'is', 'licensed', 'under', 'creative', 'commons', 'attribution', 'international', 'license', 'except', 'where', 'otherwise', 'noted', 'steven', 'earle', 'the', 'cc', 'licence', 'permits', 'you', 'to', 'retain', 'reuse', 'copy', 'redistribute', 'and', 'revise', 'this', 'book', 'in', 'whole', 'or', 'in', 'part', 'for', 'free', 'providing', 'the', 'author', 'is', 'attributed', 'as', 'follows', 'physical', 'geology', 'nd', 'edition', 'by', 'steven', 'earle', 'is', 'used', 'under', 'creative', 'commons', 'attribution', 'international', 'licence', 'if', 'you', 'redistribute', 'all', 'or', 'part', 'of', 'this', 'book', 'it', 'is', 'recommended', 'the', 'following', 'statement', 'be', 'added', 'to', 'the', 'copyright', 'page', 'so', 'readers', 'can', 'access', 'the', 'original', 'book', 'at', 'no', 'cost', 'download', 'for', 'free', 'from', 'the', 'open', 'collection']\"\n"
          ]
        }
      ],
      "source": [
        "tokenized, nltk_tokenized, gensim_tokenized = simple_tokenizer(cleaned), nltk_tokenizer(cleaned), gensim_tokenizer(cleaned,True)\n",
        "\n",
        "print(f'Пример токенизации текста\\n\\n{Fore.RED}Тестовый образец:{Style.RESET_ALL}\\n\"{cleaned}\"\\n\\n \\\n",
        "{Fore.RED}* Образец, токенизированный с помощью функции simple_tokenizer {Style.RESET_ALL}\\n\"{tokenized}\"\\n\\n \\\n",
        "{Fore.RED}* Образец, токенизированный с помощью функции nltk_tokenizer {Style.RESET_ALL}\\n\"{nltk_tokenized}\"\\n\\n \\\n",
        "{Fore.RED}* Образец, токенизированный с помощью функции gensim_tokenizer {Style.RESET_ALL}\\n\"{gensim_tokenized}\"')"
      ]
    },
    {
      "cell_type": "markdown",
      "metadata": {
        "id": "0-1CL0XnEECG"
      },
      "source": [
        "## Удаление стоп-слов\n",
        "\n",
        "Попробуем три опции: \n",
        "\n",
        "- загрузка стоп-слов, которые предоставляет NLTK\n",
        "- загрузка стоп-слов, которые предоставляет Spacy\n",
        "- загрузка стоп-слов, которые предоставляет Gensim"
      ]
    },
    {
      "cell_type": "code",
      "execution_count": 14,
      "metadata": {
        "id": "6zFEfq_iEqhl"
      },
      "outputs": [],
      "source": [
        "def stopwords_nltk(text):\n",
        "  # принимает токенизированный текст\n",
        "  # сохраняем список слов в переменную\n",
        "  sw = stopwords.words('english')\n",
        "\n",
        "  # чтобы удалить стоп-слова, \"пробежимся\" по токенизированному списку\n",
        "  # если слово отсутсвует в списке стоп-слов, сохраним его в новый список tokenized_no_sw\n",
        "  return [x for x in text if not x in sw]\n",
        "\n",
        "def stopwords_spacy(text):\n",
        "  # загрузка spacy для английского языка\n",
        "  en = spacy.load('en_core_web_sm')\n",
        "  # загрузка стоп-слов\n",
        "  sw = en.Defaults.stop_words\n",
        "\n",
        "  return [x for x in text if not x in sw]\n",
        "\n",
        "def stopwords_gensim(text):\n",
        "  # загрузка стоп-слов из gensim\n",
        "  sw = STOPWORDS\n",
        "  \n",
        "  return [x for x in text if not x in sw]"
      ]
    },
    {
      "cell_type": "code",
      "execution_count": 15,
      "metadata": {
        "colab": {
          "base_uri": "https://localhost:8080/"
        },
        "id": "Li5SJTeNHYlQ",
        "outputId": "a9b4a6be-5275-4454-fe5b-e8fc3f82891b"
      },
      "outputs": [
        {
          "output_type": "stream",
          "name": "stdout",
          "text": [
            "Пример очистки текста от стоп-слов\n",
            "\n",
            "\u001b[31mТестовый образец:\u001b[0m\n",
            "\"['physical', 'geology', 'nd', 'edition', 'physical', 'geology', 'nd', 'edition', 'steven', 'earle', 'karla', 'panchuk', 'bccampus', 'victoria', 'icon', 'for', 'the', 'creative', 'commons', 'attribution', 'international', 'license', 'physical', 'geology', 'nd', 'edition', 'by', 'steven', 'earle', 'is', 'licensed', 'under', 'creative', 'commons', 'attribution', 'international', 'license', 'except', 'where', 'otherwise', 'noted', 'steven', 'earle', 'the', 'cc', 'licence', 'permits', 'you', 'to', 'retain', 'reuse', 'copy', 'redistribute', 'and', 'revise', 'this', 'book', 'in', 'whole', 'or', 'in', 'part', 'for', 'free', 'providing', 'the', 'author', 'is', 'attributed', 'as', 'follows', 'physical', 'geology', 'nd', 'edition', 'by', 'steven', 'earle', 'is', 'used', 'under', 'creative', 'commons', 'attribution', 'international', 'licence', 'if', 'you', 'redistribute', 'all', 'or', 'part', 'of', 'this', 'book', 'it', 'is', 'recommended', 'the', 'following', 'statement', 'be', 'added', 'to', 'the', 'copyright', 'page', 'so', 'readers', 'can', 'access', 'the', 'original', 'book', 'at', 'no', 'cost', 'download', 'for', 'free', 'from', 'the', 'open', 'collection']\"\n",
            "\n",
            " \u001b[31m* Образец, очищенный от стоп-слов с помощью функции NLTK \u001b[0m\n",
            "\"['physical', 'geology', 'nd', 'edition', 'physical', 'geology', 'nd', 'edition', 'steven', 'earle', 'karla', 'panchuk', 'bccampus', 'victoria', 'icon', 'creative', 'commons', 'attribution', 'international', 'license', 'physical', 'geology', 'nd', 'edition', 'steven', 'earle', 'licensed', 'creative', 'commons', 'attribution', 'international', 'license', 'except', 'otherwise', 'noted', 'steven', 'earle', 'cc', 'licence', 'permits', 'retain', 'reuse', 'copy', 'redistribute', 'revise', 'book', 'whole', 'part', 'free', 'providing', 'author', 'attributed', 'follows', 'physical', 'geology', 'nd', 'edition', 'steven', 'earle', 'used', 'creative', 'commons', 'attribution', 'international', 'licence', 'redistribute', 'part', 'book', 'recommended', 'following', 'statement', 'added', 'copyright', 'page', 'readers', 'access', 'original', 'book', 'cost', 'download', 'free', 'open', 'collection']\"\n",
            "\n",
            " \u001b[31m* Образец, очищенный от стоп-слов с помощью функции Spacy \u001b[0m\n",
            "\"['physical', 'geology', 'nd', 'edition', 'physical', 'geology', 'nd', 'edition', 'steven', 'earle', 'karla', 'panchuk', 'bccampus', 'victoria', 'icon', 'creative', 'commons', 'attribution', 'international', 'license', 'physical', 'geology', 'nd', 'edition', 'steven', 'earle', 'licensed', 'creative', 'commons', 'attribution', 'international', 'license', 'noted', 'steven', 'earle', 'cc', 'licence', 'permits', 'retain', 'reuse', 'copy', 'redistribute', 'revise', 'book', 'free', 'providing', 'author', 'attributed', 'follows', 'physical', 'geology', 'nd', 'edition', 'steven', 'earle', 'creative', 'commons', 'attribution', 'international', 'licence', 'redistribute', 'book', 'recommended', 'following', 'statement', 'added', 'copyright', 'page', 'readers', 'access', 'original', 'book', 'cost', 'download', 'free', 'open', 'collection']\"\n",
            "\n",
            " \u001b[31m* Образец, очищенный от стоп-слов с помощью функции Gensim \u001b[0m\n",
            "\"['physical', 'geology', 'nd', 'edition', 'physical', 'geology', 'nd', 'edition', 'steven', 'earle', 'karla', 'panchuk', 'bccampus', 'victoria', 'icon', 'creative', 'commons', 'attribution', 'international', 'license', 'physical', 'geology', 'nd', 'edition', 'steven', 'earle', 'licensed', 'creative', 'commons', 'attribution', 'international', 'license', 'noted', 'steven', 'earle', 'cc', 'licence', 'permits', 'retain', 'reuse', 'copy', 'redistribute', 'revise', 'book', 'free', 'providing', 'author', 'attributed', 'follows', 'physical', 'geology', 'nd', 'edition', 'steven', 'earle', 'creative', 'commons', 'attribution', 'international', 'licence', 'redistribute', 'book', 'recommended', 'following', 'statement', 'added', 'copyright', 'page', 'readers', 'access', 'original', 'book', 'cost', 'download', 'free', 'open', 'collection']\"\n"
          ]
        }
      ],
      "source": [
        "no_sw_nltk, no_sw_spacy, no_sw_gensim = stopwords_nltk(gensim_tokenized), stopwords_spacy(gensim_tokenized), stopwords_gensim(gensim_tokenized)\n",
        "\n",
        "print(f'Пример очистки текста от стоп-слов\\n\\n{Fore.RED}Тестовый образец:{Style.RESET_ALL}\\n\"{gensim_tokenized}\"\\n\\n \\\n",
        "{Fore.RED}* Образец, очищенный от стоп-слов с помощью функции NLTK {Style.RESET_ALL}\\n\"{no_sw_nltk}\"\\n\\n \\\n",
        "{Fore.RED}* Образец, очищенный от стоп-слов с помощью функции Spacy {Style.RESET_ALL}\\n\"{no_sw_spacy}\"\\n\\n \\\n",
        "{Fore.RED}* Образец, очищенный от стоп-слов с помощью функции Gensim {Style.RESET_ALL}\\n\"{no_sw_gensim}\"')"
      ]
    },
    {
      "cell_type": "markdown",
      "metadata": {
        "id": "3WugquMKM87c"
      },
      "source": [
        "## Би- и триграммные модели Gensim"
      ]
    },
    {
      "cell_type": "code",
      "execution_count": 22,
      "metadata": {
        "id": "qDqCjOoqWPpm",
        "colab": {
          "base_uri": "https://localhost:8080/"
        },
        "outputId": "9d677804-d38f-4157-fba0-e3b0b98e1404"
      },
      "outputs": [
        {
          "output_type": "stream",
          "name": "stdout",
          "text": [
            "\u001b[31mОбразец работы биграммной модели\u001b[0m\n",
            " ['physical', 'geology', 'nd', 'edition', 'physical', 'geology', 'nd', 'edition', 'steven', 'earle', 'karla', 'panchuk', 'bccampus', 'victoria', 'icon', 'creative', 'commons', 'attribution', 'international', 'license', 'physical', 'geology', 'nd', 'edition', 'steven', 'earle', 'licensed', 'creative', 'commons', 'attribution', 'international', 'license', 'noted', 'steven', 'earle', 'cc', 'licence', 'permits', 'retain', 'reuse', 'copy', 'redistribute', 'revise', 'book', 'free', 'providing', 'author', 'attributed', 'follows', 'physical', 'geology', 'nd', 'edition', 'steven', 'earle', 'creative', 'commons', 'attribution', 'international', 'licence', 'redistribute', 'book', 'recommended', 'following', 'statement', 'added', 'copyright', 'page', 'readers', 'access', 'original', 'book', 'cost', 'download', 'free', 'open', 'collection']\n",
            "\u001b[31mОбразец работы триграммной модели\u001b[0m\n",
            " ['physical', 'geology', 'nd', 'edition', 'physical', 'geology', 'nd', 'edition', 'steven', 'earle', 'karla', 'panchuk', 'bccampus', 'victoria', 'icon', 'creative', 'commons', 'attribution', 'international', 'license', 'physical', 'geology', 'nd', 'edition', 'steven', 'earle', 'licensed', 'creative', 'commons', 'attribution', 'international', 'license', 'noted', 'steven', 'earle', 'cc', 'licence', 'permits', 'retain', 'reuse', 'copy', 'redistribute', 'revise', 'book', 'free', 'providing', 'author', 'attributed', 'follows', 'physical', 'geology', 'nd', 'edition', 'steven', 'earle', 'creative', 'commons', 'attribution', 'international', 'licence', 'redistribute', 'book', 'recommended', 'following', 'statement', 'added', 'copyright', 'page', 'readers', 'access', 'original', 'book', 'cost', 'download', 'free', 'open', 'collection']\n"
          ]
        }
      ],
      "source": [
        "# Используем Phrases из gensim\n",
        "# на вход модель принимает токенизированные данные\n",
        "# чем выше min_count и threshold, тем меньше би- или триграм будет устанавливать модель\n",
        "bigram = Phrases(no_sw_gensim, min_count=5, threshold=100)\n",
        "trigram = Phrases(bigram[no_sw_gensim], threshold=100)  \n",
        "\n",
        "bi_model = Phraser(bigram)\n",
        "tri_model = Phraser(trigram)\n",
        "\n",
        "print(f\"{Fore.RED}Образец выдач биграммной модели{Style.RESET_ALL}\\n\", bi_model[no_sw_gensim])\n",
        "print(f\"{Fore.RED}Образец выдач триграммной модели{Style.RESET_ALL}\\n\", tri_model[no_sw_gensim])"
      ]
    },
    {
      "cell_type": "markdown",
      "source": [
        "# Сборка модели"
      ],
      "metadata": {
        "id": "OwBS7xd2YwxA"
      }
    },
    {
      "cell_type": "code",
      "source": [
        "def text_processing(text, cleaner, tokenizer, deacc, stopwords, split_volume):\n",
        "  # полная предобработка текста\n",
        "  # text - обучающие данные (str)\n",
        "  # cleaner - тип очистки данных (function)\n",
        "  # tokenizer - тип токенизатора (func)\n",
        "  # deacc - для gensim_tokenizer, определить, удалять или нет знаки препинания (Bool)\n",
        "  # stopwords - тип стоп-слов для удаления\n",
        "  # split_volume - на какие отрывки будем делить текст для обработки (с помощью Numpy)\n",
        "  text = cleaner(text)\n",
        "  text = tokenizer(text, deacc) if tokenizer == gensim_tokenizer else tokenizer(text)\n",
        "  text = stopwords(text)\n",
        "  return np.array_split(text, split_volume)\n",
        "\n",
        "# проводим полную предобработку сырых данных text\n",
        "new_text = text_processing(text, full_clean, gensim_tokenizer, True, stopwords_gensim, 50)\n",
        "\n",
        "print(f\"{Fore.RED}Образец элементов обработанных данных:{Style.RESET_ALL}\\n\", new_text[0][:10])\n",
        "\n",
        "# обучаем биграмную модель на наших данных\n",
        "bigram_model = Phraser(Phrases(new_text, min_count=5, threshold=100))\n",
        "\n",
        "# применяем модель\n",
        "bigrams = [bigram_model[text] for text in new_text]\n",
        "\n",
        "print(f\"{Fore.RED}\\n\\nОбразец биграмм:{Style.RESET_ALL}\\n\", bigrams[0][:10])"
      ],
      "metadata": {
        "colab": {
          "base_uri": "https://localhost:8080/"
        },
        "id": "QTITOTY-Yusc",
        "outputId": "29ae8a67-ad43-4a62-8c09-4148bf8c9b36"
      },
      "execution_count": 96,
      "outputs": [
        {
          "output_type": "stream",
          "name": "stdout",
          "text": [
            "\u001b[31mОбразец элементов обработанных данных:\u001b[0m\n",
            " ['source' 'text' 'text' 'non' 'commercial' 'educational' 'purposes'\n",
            " 'introduction' 'geology' 'free']\n",
            "\u001b[31m\n",
            "\n",
            "Образец биграмм:\u001b[0m\n",
            " ['source', 'text', 'text', 'non_commercial', 'educational', 'purposes', 'introduction', 'geology', 'free', 'textbook']\n"
          ]
        }
      ]
    },
    {
      "cell_type": "markdown",
      "source": [
        "# Term Frequency"
      ],
      "metadata": {
        "id": "VG5S6hAswv5b"
      }
    },
    {
      "cell_type": "code",
      "source": [
        "# создание биграммного словаря с помощью gensim.corpora\n",
        "id2word = Dictionary(bigrams)\n",
        "\n",
        "# TF: подсчет частоты встречаемости элементов в корпусе\n",
        "corpus = [id2word.doc2bow(text) for text in bigrams]\n",
        "tf = [[(id2word[id], freq) for id, freq in cp] for cp in corpus]\n",
        "\n",
        "print(f\"{Fore.RED}Образец элементов словаря:{Style.RESET_ALL}\\n\", id2word[0], id2word[1], id2word[2])\n",
        "print(f\"{Fore.RED}Образец подсчета Term Frequency:{Style.RESET_ALL}\\n\", tf[0][:3])"
      ],
      "metadata": {
        "colab": {
          "base_uri": "https://localhost:8080/"
        },
        "id": "XmrFXSyrnifc",
        "outputId": "7567ccaf-7c9a-452d-b45a-79cba870a399"
      },
      "execution_count": 100,
      "outputs": [
        {
          "output_type": "stream",
          "name": "stdout",
          "text": [
            "\u001b[31mОбразец элементов словаря:\u001b[0m\n",
            " able abraham absolute\n",
            "\u001b[31mОбразец подсчета Term Frequency:\u001b[0m\n",
            " [('able', 2), ('abraham', 1), ('absolute', 1)]\n"
          ]
        }
      ]
    },
    {
      "cell_type": "markdown",
      "source": [
        "# Визуализация результата"
      ],
      "metadata": {
        "id": "J5WlnIBYxnzD"
      }
    },
    {
      "cell_type": "code",
      "source": [
        "# сортировка элементов, \n",
        "# добавляем все, что подсчитали, в общий список\n",
        "to_sort  = []\n",
        "for elem in tf:\n",
        "  for x in elem:\n",
        "    to_sort.append(x)\n",
        "\n",
        "# создаем частотный словарь\n",
        "freq_dict = dict()                                                                                       \n",
        "for i in to_sort: \n",
        "    if i[0] not in freq_dict: \n",
        "        freq_dict[i[0]] = i[1] \n",
        "    else: \n",
        "        freq_dict[i[0]] += i[1] \n",
        "\n",
        "# создаем DataFrame с результатами работы \n",
        "df = pd.DataFrame(freq_dict.items(), columns=['item', 'frequency']).sort_values(by=['frequency'], ascending=False)\n",
        "df.head()"
      ],
      "metadata": {
        "colab": {
          "base_uri": "https://localhost:8080/",
          "height": 206
        },
        "id": "XXT-dR5roOdJ",
        "outputId": "8710743c-3676-42de-d40a-612f78e04bad"
      },
      "execution_count": 135,
      "outputs": [
        {
          "output_type": "execute_result",
          "data": {
            "text/plain": [
              "        item  frequency\n",
              "595   figure       2674\n",
              "1394    rock       2008\n",
              "1708   water       1613\n",
              "1395   rocks       1418\n",
              "464    earth       1214"
            ],
            "text/html": [
              "\n",
              "  <div id=\"df-021857a5-c5dd-4b34-8905-75de50f83a92\">\n",
              "    <div class=\"colab-df-container\">\n",
              "      <div>\n",
              "<style scoped>\n",
              "    .dataframe tbody tr th:only-of-type {\n",
              "        vertical-align: middle;\n",
              "    }\n",
              "\n",
              "    .dataframe tbody tr th {\n",
              "        vertical-align: top;\n",
              "    }\n",
              "\n",
              "    .dataframe thead th {\n",
              "        text-align: right;\n",
              "    }\n",
              "</style>\n",
              "<table border=\"1\" class=\"dataframe\">\n",
              "  <thead>\n",
              "    <tr style=\"text-align: right;\">\n",
              "      <th></th>\n",
              "      <th>item</th>\n",
              "      <th>frequency</th>\n",
              "    </tr>\n",
              "  </thead>\n",
              "  <tbody>\n",
              "    <tr>\n",
              "      <th>595</th>\n",
              "      <td>figure</td>\n",
              "      <td>2674</td>\n",
              "    </tr>\n",
              "    <tr>\n",
              "      <th>1394</th>\n",
              "      <td>rock</td>\n",
              "      <td>2008</td>\n",
              "    </tr>\n",
              "    <tr>\n",
              "      <th>1708</th>\n",
              "      <td>water</td>\n",
              "      <td>1613</td>\n",
              "    </tr>\n",
              "    <tr>\n",
              "      <th>1395</th>\n",
              "      <td>rocks</td>\n",
              "      <td>1418</td>\n",
              "    </tr>\n",
              "    <tr>\n",
              "      <th>464</th>\n",
              "      <td>earth</td>\n",
              "      <td>1214</td>\n",
              "    </tr>\n",
              "  </tbody>\n",
              "</table>\n",
              "</div>\n",
              "      <button class=\"colab-df-convert\" onclick=\"convertToInteractive('df-021857a5-c5dd-4b34-8905-75de50f83a92')\"\n",
              "              title=\"Convert this dataframe to an interactive table.\"\n",
              "              style=\"display:none;\">\n",
              "        \n",
              "  <svg xmlns=\"http://www.w3.org/2000/svg\" height=\"24px\"viewBox=\"0 0 24 24\"\n",
              "       width=\"24px\">\n",
              "    <path d=\"M0 0h24v24H0V0z\" fill=\"none\"/>\n",
              "    <path d=\"M18.56 5.44l.94 2.06.94-2.06 2.06-.94-2.06-.94-.94-2.06-.94 2.06-2.06.94zm-11 1L8.5 8.5l.94-2.06 2.06-.94-2.06-.94L8.5 2.5l-.94 2.06-2.06.94zm10 10l.94 2.06.94-2.06 2.06-.94-2.06-.94-.94-2.06-.94 2.06-2.06.94z\"/><path d=\"M17.41 7.96l-1.37-1.37c-.4-.4-.92-.59-1.43-.59-.52 0-1.04.2-1.43.59L10.3 9.45l-7.72 7.72c-.78.78-.78 2.05 0 2.83L4 21.41c.39.39.9.59 1.41.59.51 0 1.02-.2 1.41-.59l7.78-7.78 2.81-2.81c.8-.78.8-2.07 0-2.86zM5.41 20L4 18.59l7.72-7.72 1.47 1.35L5.41 20z\"/>\n",
              "  </svg>\n",
              "      </button>\n",
              "      \n",
              "  <style>\n",
              "    .colab-df-container {\n",
              "      display:flex;\n",
              "      flex-wrap:wrap;\n",
              "      gap: 12px;\n",
              "    }\n",
              "\n",
              "    .colab-df-convert {\n",
              "      background-color: #E8F0FE;\n",
              "      border: none;\n",
              "      border-radius: 50%;\n",
              "      cursor: pointer;\n",
              "      display: none;\n",
              "      fill: #1967D2;\n",
              "      height: 32px;\n",
              "      padding: 0 0 0 0;\n",
              "      width: 32px;\n",
              "    }\n",
              "\n",
              "    .colab-df-convert:hover {\n",
              "      background-color: #E2EBFA;\n",
              "      box-shadow: 0px 1px 2px rgba(60, 64, 67, 0.3), 0px 1px 3px 1px rgba(60, 64, 67, 0.15);\n",
              "      fill: #174EA6;\n",
              "    }\n",
              "\n",
              "    [theme=dark] .colab-df-convert {\n",
              "      background-color: #3B4455;\n",
              "      fill: #D2E3FC;\n",
              "    }\n",
              "\n",
              "    [theme=dark] .colab-df-convert:hover {\n",
              "      background-color: #434B5C;\n",
              "      box-shadow: 0px 1px 3px 1px rgba(0, 0, 0, 0.15);\n",
              "      filter: drop-shadow(0px 1px 2px rgba(0, 0, 0, 0.3));\n",
              "      fill: #FFFFFF;\n",
              "    }\n",
              "  </style>\n",
              "\n",
              "      <script>\n",
              "        const buttonEl =\n",
              "          document.querySelector('#df-021857a5-c5dd-4b34-8905-75de50f83a92 button.colab-df-convert');\n",
              "        buttonEl.style.display =\n",
              "          google.colab.kernel.accessAllowed ? 'block' : 'none';\n",
              "\n",
              "        async function convertToInteractive(key) {\n",
              "          const element = document.querySelector('#df-021857a5-c5dd-4b34-8905-75de50f83a92');\n",
              "          const dataTable =\n",
              "            await google.colab.kernel.invokeFunction('convertToInteractive',\n",
              "                                                     [key], {});\n",
              "          if (!dataTable) return;\n",
              "\n",
              "          const docLinkHtml = 'Like what you see? Visit the ' +\n",
              "            '<a target=\"_blank\" href=https://colab.research.google.com/notebooks/data_table.ipynb>data table notebook</a>'\n",
              "            + ' to learn more about interactive tables.';\n",
              "          element.innerHTML = '';\n",
              "          dataTable['output_type'] = 'display_data';\n",
              "          await google.colab.output.renderOutput(dataTable, element);\n",
              "          const docLink = document.createElement('div');\n",
              "          docLink.innerHTML = docLinkHtml;\n",
              "          element.appendChild(docLink);\n",
              "        }\n",
              "      </script>\n",
              "    </div>\n",
              "  </div>\n",
              "  "
            ]
          },
          "metadata": {},
          "execution_count": 135
        }
      ]
    },
    {
      "cell_type": "code",
      "source": [
        "# сохраянем в Excel\n",
        "\n",
        "df.to_excel(\"output.xlsx\")  "
      ],
      "metadata": {
        "id": "3cpHnIIGsfzJ"
      },
      "execution_count": 136,
      "outputs": []
    },
    {
      "cell_type": "code",
      "source": [],
      "metadata": {
        "id": "Y1jA0XC83dZ3"
      },
      "execution_count": null,
      "outputs": []
    }
  ],
  "metadata": {
    "colab": {
      "provenance": [],
      "authorship_tag": "ABX9TyO2J4ASba/C5C4Z+gKDuKvI",
      "include_colab_link": true
    },
    "kernelspec": {
      "display_name": "Python 3",
      "name": "python3"
    },
    "language_info": {
      "name": "python"
    }
  },
  "nbformat": 4,
  "nbformat_minor": 0
}