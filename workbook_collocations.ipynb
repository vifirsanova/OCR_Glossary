{
  "nbformat": 4,
  "nbformat_minor": 0,
  "metadata": {
    "colab": {
      "provenance": [],
      "toc_visible": true,
      "authorship_tag": "ABX9TyN6aQwu9pb6lMezrCvBaZZG",
      "include_colab_link": true
    },
    "kernelspec": {
      "name": "python3",
      "display_name": "Python 3"
    },
    "language_info": {
      "name": "python"
    }
  },
  "cells": [
    {
      "cell_type": "markdown",
      "metadata": {
        "id": "view-in-github",
        "colab_type": "text"
      },
      "source": [
        "<a href=\"https://colab.research.google.com/github/vifirsanova/OCR_Glossary/blob/main/workbook_collocations.ipynb\" target=\"_parent\"><img src=\"https://colab.research.google.com/assets/colab-badge.svg\" alt=\"Open In Colab\"/></a>"
      ]
    },
    {
      "cell_type": "code",
      "source": [
        "### ноутбук будет дополнен"
      ],
      "metadata": {
        "id": "70D5bjlyiAY4"
      },
      "execution_count": 30,
      "outputs": []
    },
    {
      "cell_type": "markdown",
      "source": [
        "# Импорт библиотек"
      ],
      "metadata": {
        "id": "TCHQ8GKOR2Gk"
      }
    },
    {
      "cell_type": "code",
      "source": [
        "# использование цвета для вывода на экран\n",
        "!pip install colorama"
      ],
      "metadata": {
        "colab": {
          "base_uri": "https://localhost:8080/"
        },
        "id": "N1YGn1lbiur-",
        "outputId": "22e21768-40fa-4caa-da5b-10b36393dd70"
      },
      "execution_count": 31,
      "outputs": [
        {
          "output_type": "stream",
          "name": "stdout",
          "text": [
            "Looking in indexes: https://pypi.org/simple, https://us-python.pkg.dev/colab-wheels/public/simple/\n",
            "Requirement already satisfied: colorama in /usr/local/lib/python3.8/dist-packages (0.4.6)\n"
          ]
        }
      ]
    },
    {
      "cell_type": "code",
      "source": [
        "#from pathlib import Path\n",
        "#import re\n",
        "#from colorama import Fore, Style\n",
        "#import nltk\n",
        "#nltk.download('punkt')\n",
        "#from nltk.tokenize import word_tokenize \n",
        "#from gensim.utils import simple_preprocess\n",
        "#from nltk.corpus import stopwords\n",
        "#import spacy\n",
        "from gensim.parsing.preprocessing import STOPWORDS"
      ],
      "metadata": {
        "id": "4f7L71u0R1MK"
      },
      "execution_count": 47,
      "outputs": []
    },
    {
      "cell_type": "markdown",
      "source": [
        "# Загрузка нескольких файлов\n",
        "\n",
        "* загружаем файлы из GitHub\n",
        "* соединяем их в одной переменной"
      ],
      "metadata": {
        "id": "S0vYorJxRvqM"
      }
    },
    {
      "cell_type": "code",
      "execution_count": 33,
      "metadata": {
        "id": "Q03QcHD83KI3",
        "colab": {
          "base_uri": "https://localhost:8080/"
        },
        "outputId": "cd559225-bdb0-4c8a-d7dc-102184bc282d"
      },
      "outputs": [
        {
          "output_type": "stream",
          "name": "stdout",
          "text": [
            "--2023-02-01 12:59:21--  https://raw.githubusercontent.com/vifirsanova/OCR_Glossary/main/Geology.txt\n",
            "Resolving raw.githubusercontent.com (raw.githubusercontent.com)... 185.199.108.133, 185.199.109.133, 185.199.110.133, ...\n",
            "Connecting to raw.githubusercontent.com (raw.githubusercontent.com)|185.199.108.133|:443... connected.\n",
            "HTTP request sent, awaiting response... 200 OK\n",
            "Length: 207953 (203K) [text/plain]\n",
            "Saving to: ‘Geology.txt.1’\n",
            "\n",
            "\rGeology.txt.1         0%[                    ]       0  --.-KB/s               \rGeology.txt.1       100%[===================>] 203.08K  --.-KB/s    in 0.03s   \n",
            "\n",
            "2023-02-01 12:59:22 (7.66 MB/s) - ‘Geology.txt.1’ saved [207953/207953]\n",
            "\n",
            "--2023-02-01 12:59:22--  https://raw.githubusercontent.com/vifirsanova/OCR_Glossary/main/Physical_Geology_2nd_Ed.txt\n",
            "Resolving raw.githubusercontent.com (raw.githubusercontent.com)... 185.199.108.133, 185.199.109.133, 185.199.110.133, ...\n",
            "Connecting to raw.githubusercontent.com (raw.githubusercontent.com)|185.199.108.133|:443... connected.\n",
            "HTTP request sent, awaiting response... 200 OK\n",
            "Length: 1268676 (1.2M) [text/plain]\n",
            "Saving to: ‘Physical_Geology_2nd_Ed.txt.1’\n",
            "\n",
            "Physical_Geology_2n 100%[===================>]   1.21M  --.-KB/s    in 0.05s   \n",
            "\n",
            "2023-02-01 12:59:22 (22.1 MB/s) - ‘Physical_Geology_2nd_Ed.txt.1’ saved [1268676/1268676]\n",
            "\n",
            "--2023-02-01 12:59:22--  https://raw.githubusercontent.com/vifirsanova/OCR_Glossary/main/Lumen-Learning-Geology.txt\n",
            "Resolving raw.githubusercontent.com (raw.githubusercontent.com)... 185.199.108.133, 185.199.109.133, 185.199.110.133, ...\n",
            "Connecting to raw.githubusercontent.com (raw.githubusercontent.com)|185.199.108.133|:443... connected.\n",
            "HTTP request sent, awaiting response... 200 OK\n",
            "Length: 994855 (972K) [text/plain]\n",
            "Saving to: ‘Lumen-Learning-Geology.txt.1’\n",
            "\n",
            "Lumen-Learning-Geol 100%[===================>] 971.54K  --.-KB/s    in 0.05s   \n",
            "\n",
            "2023-02-01 12:59:22 (19.5 MB/s) - ‘Lumen-Learning-Geology.txt.1’ saved [994855/994855]\n",
            "\n"
          ]
        }
      ],
      "source": [
        "!wget https://raw.githubusercontent.com/vifirsanova/OCR_Glossary/main/Geology.txt\n",
        "!wget https://raw.githubusercontent.com/vifirsanova/OCR_Glossary/main/Physical_Geology_2nd_Ed.txt\n",
        "!wget https://raw.githubusercontent.com/vifirsanova/OCR_Glossary/main/Lumen-Learning-Geology.txt"
      ]
    },
    {
      "cell_type": "code",
      "source": [
        "# проверяем наличие загруженных файлов в директории\n",
        "# с помощью консольной команды ls\n",
        "\n",
        "!ls"
      ],
      "metadata": {
        "colab": {
          "base_uri": "https://localhost:8080/"
        },
        "id": "VZElSXo0SVFr",
        "outputId": "1ccccba3-88ab-4dad-c028-931ae16eaa5b"
      },
      "execution_count": 34,
      "outputs": [
        {
          "output_type": "stream",
          "name": "stdout",
          "text": [
            "Geology.txt\t\t    Lumen-Learning-Geology.txt.1   sample_data\n",
            "Geology.txt.1\t\t    Physical_Geology_2nd_Ed.txt\n",
            "Lumen-Learning-Geology.txt  Physical_Geology_2nd_Ed.txt.1\n"
          ]
        }
      ]
    },
    {
      "cell_type": "code",
      "source": [
        "# прочитываем все файлы с помощью метода read_text из библиотеки Path\n",
        "# мы можем выполнить это параллельно, \n",
        "# то есть за одну команду одновременно обработать несколько файлов\n",
        "\n",
        "text0, text1, text2 = Path('Geology.txt').read_text(), Path('Lumen-Learning-Geology.txt').read_text(), Path('Physical_Geology_2nd_Ed.txt').read_text()\n",
        "\n",
        "# посмотрим на часть одного из текстов\n",
        "\n",
        "text2[:900]"
      ],
      "metadata": {
        "colab": {
          "base_uri": "https://localhost:8080/",
          "height": 127
        },
        "id": "x5gL6vRtSWb1",
        "outputId": "f6d3384f-1a31-47fb-91d4-c557f3f88c5b"
      },
      "execution_count": 35,
      "outputs": [
        {
          "output_type": "execute_result",
          "data": {
            "text/plain": [
              "'https://opentextbc.ca/physicalgeology2ed/\\nPhysical Geology - 2nd Edition\\nPhysical Geology - 2nd Edition\\nSteven Earle\\nKarla Panchuk\\nBCcampus\\nVictoria, B.C.\\nIcon for the Creative Commons Attribution 4.0 International License\\n\\nPhysical Geology - 2nd Edition by Steven Earle is licensed under a Creative Commons Attribution 4.0 International License, except where otherwise noted.\\n\\n© 2019 Steven Earle\\n\\nThe CC licence permits you to retain, reuse, copy, redistribute, and revise this book—in whole or in part—for free providing the author is attributed as follows:\\n\\nPhysical Geology – 2nd Edition by Steven Earle is used under a Creative Commons Attribution 4.0 International Licence.\\nIf you redistribute all or part of this book, it is recommended the following statement be added to the copyright page so readers can access the original book at no cost:\\n\\nDownload for free from the B.C. Open Collection'"
            ],
            "application/vnd.google.colaboratory.intrinsic+json": {
              "type": "string"
            }
          },
          "metadata": {},
          "execution_count": 35
        }
      ]
    },
    {
      "cell_type": "code",
      "source": [
        "# сохраним этот отрывок в отдельную переменную для будущих экспериментов c RegEx\n",
        "\n",
        "test = text2[:900]"
      ],
      "metadata": {
        "id": "2d9nkthscumz"
      },
      "execution_count": 36,
      "outputs": []
    },
    {
      "cell_type": "markdown",
      "source": [
        "Какие артефакты бросаются нам в глаза в этом тексте?"
      ],
      "metadata": {
        "id": "Le5G_FYlVSzv"
      }
    },
    {
      "cell_type": "code",
      "source": [
        "# объединим все файлы в один и посмотрим его статистику\n",
        "\n",
        "text = \" \".join([text0, text1, text2])\n",
        "\n",
        "print(f'Статистическое описание сырого документа\\n\\n{Fore.RED}Длина документа:{Style.RESET_ALL} {len(text)} символов\\n\\\n",
        "{Fore.RED}Приблизительное количество слов в документе:{Style.RESET_ALL} {len(text.split(\" \"))}')"
      ],
      "metadata": {
        "colab": {
          "base_uri": "https://localhost:8080/"
        },
        "id": "cSYsSckiTPC7",
        "outputId": "195a9e58-001d-49bd-a71e-4869e9190cf1"
      },
      "execution_count": 37,
      "outputs": [
        {
          "output_type": "stream",
          "name": "stdout",
          "text": [
            "Статистическое описание сырого документа\n",
            "\n",
            "\u001b[31mДлина документа:\u001b[0m 2452019 символов\n",
            "\u001b[31mПриблизительное количество слов в документе:\u001b[0m 375467\n"
          ]
        }
      ]
    },
    {
      "cell_type": "markdown",
      "source": [
        "Какие статистические данные по сырому тексту нам могут быть интересны?\n",
        "\n",
        "Как их получить?"
      ],
      "metadata": {
        "id": "CZIdmDZ8VZJo"
      }
    },
    {
      "cell_type": "markdown",
      "source": [
        "# Предобработка данных"
      ],
      "metadata": {
        "id": "fkuASPdJV7vx"
      }
    },
    {
      "cell_type": "markdown",
      "source": [
        "## Чистка данных с помощью RegEx\n",
        "\n",
        "Вспомним отрывок одного из текстов:\n",
        "\n",
        "```\n",
        "https://opentextbc.ca/physicalgeology2ed/\\nPhysical Geology - 2nd Edition\\nPhysical Geology - 2nd Edition\\nSteven Earle\\nKarla Panchuk\\nBCcampus\\nVictoria, B.C.\\nIcon for the Creative Commons Attribution 4.0 International License\\n\\nPhysical Geology - 2nd Edition by Steven Earle is licensed under a Creative Commons Attribution 4.0 International License, except where otherwise noted.\\n\\n© 2019 Steven Earle\\n\\nThe CC licence permits you to retain, reuse, copy, redistribute, and revise this book—in whole or in part—for free providing the author is attributed as follows:\\n\\nPhysical Geology – 2nd Edition by Steven Earle is used under a Creative Commons Attribution 4.0 International Licence.\\nIf you redistribute all or part of this book, it is recommended the following statement be added to the copyright page so readers can access the original book at no cost:\\n\\nDownload for free from the B.C. Open Collection\n",
        "\n",
        "```\n",
        "\n",
        "Мы обратили внимание на некоторые артефакты:\n",
        "\n",
        "* ссылки\n",
        "* абзацные отступы\n",
        "* специальные символы, например `©`\n",
        "* ???\n",
        "\n",
        "Проверим, верна ли наша гипотеза.\n",
        "\n",
        "\n"
      ],
      "metadata": {
        "id": "-buEWbXzXMVF"
      }
    },
    {
      "cell_type": "code",
      "source": [
        "# ссылки\n",
        "\n",
        "link_pattern = re.compile(r'https?://\\S+|www\\.\\S+')\n",
        "links = re.findall(link_pattern, text)\n",
        "\n",
        "print(f'{Fore.RED}Количество обнаруженных ссылок:{Style.RESET_ALL} {len(links)}\\n{Fore.RED}Образцы ссылок:{Style.RESET_ALL} {links[:3]}')\n",
        "\n",
        "# специальные символы\n",
        "\n",
        "symbol_pattern = re.compile(r'[^a-zA-Z0-9 .,:;…()!?\\-—]+')\n",
        "symbols = re.findall(symbol_pattern, text)\n",
        "\n",
        "print(f'\\n{Fore.RED}Количество обнаруженных специальных символов:{Style.RESET_ALL} {len(symbols)}\\n{Fore.RED}Образцы уникальных символов:{Style.RESET_ALL} {set(symbols[500:1000])}')\n",
        "\n",
        "# любые символы\n",
        "\n",
        "any_symbol_pattern = re.compile(r'[^a-zA-Z ]+')\n",
        "all_symbols = re.findall(any_symbol_pattern, text)\n",
        "\n",
        "print(f'\\n{Fore.RED}Количество обнаруженных символов:{Style.RESET_ALL} {len(all_symbols)}\\n{Fore.RED}Образцы уникальных символов:{Style.RESET_ALL} {set(all_symbols[500:600])}')"
      ],
      "metadata": {
        "colab": {
          "base_uri": "https://localhost:8080/"
        },
        "id": "wuF1R3sTUjoX",
        "outputId": "5603229b-e591-49e7-ef17-9ed725448608"
      },
      "execution_count": 38,
      "outputs": [
        {
          "output_type": "stream",
          "name": "stdout",
          "text": [
            "\u001b[31mКоличество обнаруженных ссылок:\u001b[0m 341\n",
            "\u001b[31mОбразцы ссылок:\u001b[0m ['https://opengeology.org/textbook/1-understanding-science/', 'https://www.columbiabasin.edu/.', 'http://www.ck12.org/book/CK-12-Earth-Science-For-Middle-School/section/1.2/.']\n",
            "\n",
            "\u001b[31mКоличество обнаруженных специальных символов:\u001b[0m 23382\n",
            "\u001b[31mОбразцы уникальных символов:\u001b[0m {'+', '–', '\\n\\n\\n\\n\\n\\n', '\\n\\n\\n\\n\\n', '°/', '·', '/', '“', '’', '[', '°', 'ö', '>', ']', 'ᐧ', '”', '%', '\\n', '&', '\\n\\n\\n', 'ʻ', 'í', \"'\", '‘', '\\n\\n\\n\\n', '•', 'ʻā', '<'}\n",
            "\n",
            "\u001b[31mКоличество обнаруженных символов:\u001b[0m 76614\n",
            "\u001b[31mОбразцы уникальных символов:\u001b[0m {'2.\\n', '-', ',', '.\\n', '(', '.', '—', ';', '.\\n1.5.3', '.\\n1.5.2', ').\\n', '),', '\\n', '’', ':'}\n"
          ]
        }
      ]
    },
    {
      "cell_type": "markdown",
      "source": [
        "Мы хотим проверить, какое влияние окажет удаление знаков препинания на результат работы нашей программы.\n",
        "\n",
        "Для этого создадим три функции для чистки текста: \n",
        "- первая сохраняет знаки препинания и цифры\n",
        "- вторая очищает текст от знаков препинания\n",
        "- третья удаляет все символы кроме букв"
      ],
      "metadata": {
        "id": "L2rjTRHObkbx"
      }
    },
    {
      "cell_type": "code",
      "source": [
        "def clean(text):\n",
        "  ### сохраняет знаки препинания и цифры ###\n",
        "\n",
        "  # удаляем из текста ссылки \n",
        "  text = re.sub('https?://\\S+|www\\.\\S+', ' ', text)\n",
        "  \n",
        "  # удаляем специальные символы\n",
        "  # оставляем знаки препинания и цифры\n",
        "  text = re.sub('[^a-zA-Z0-9 .,:;…()!?\\-—]+', ' ', text)\n",
        "\n",
        "  # возвращаем текст, очищенный от лишних пробелов\n",
        "  # которые появились в результате обработки\n",
        "  return re.sub('\\s+', ' ', text)\n",
        "\n",
        "def full_clean(text):\n",
        "  ### очищает текст от знаков препинания ###\n",
        "\n",
        "  # удаляем из текста ссылки \n",
        "  text = re.sub('https?://\\S+|www\\.\\S+', ' ', text)\n",
        "  \n",
        "  # удаляем специальные символы\n",
        "  # оставляем цифры\n",
        "  text = re.sub('[^a-zA-Z0-9 ]+', ' ', text)\n",
        "\n",
        "  # возвращаем текст, очищенный от лишних пробелов\n",
        "  # которые появились в результате обработки\n",
        "  return re.sub('\\s+', ' ', text)\n",
        "\n",
        "def digits_clean(text):\n",
        "  ### удаляет все символы кроме букв ###\n",
        "\n",
        "  # удаляем из текста ссылки \n",
        "  text = re.sub('https?://\\S+|www\\.\\S+', ' ', text)\n",
        "  \n",
        "  # удаляем специальные символы\n",
        "  # удаляем цифры\n",
        "  text = re.sub('[^a-zA-Z ]+', ' ', text)\n",
        "\n",
        "  # возвращаем текст, очищенный от лишних пробелов\n",
        "  # которые появились в результате обработки\n",
        "  return re.sub('\\s+', ' ', text)"
      ],
      "metadata": {
        "id": "OgOxBy_lYnwJ"
      },
      "execution_count": 39,
      "outputs": []
    },
    {
      "cell_type": "code",
      "source": [
        "cleaned, full_cleaned, digits_cleaned = clean(test), full_clean(test), digits_clean(test)\n",
        "\n",
        "print(f'Пример очистки текста\\n\\n{Fore.RED}Тестовый образец:{Style.RESET_ALL}\\n\"{test}\"\\n\\n \\\n",
        "{Fore.RED}* Образец, очищенный с помощью функции clean (сохраняет знаки препинания и цифры){Style.RESET_ALL}\\n\"{cleaned}\"\\n\\n \\\n",
        "{Fore.RED}* Образец, очищенный с помощью функции full_clean (очищает текст от знаков препинания){Style.RESET_ALL}\\n\"{full_cleaned}\"\\n\\n \\\n",
        "{Fore.RED}* Образец, очищенный с помощью функции digits_clean (удаляет все символы кроме букв){Style.RESET_ALL}\\n\"{digits_cleaned}\"')"
      ],
      "metadata": {
        "colab": {
          "base_uri": "https://localhost:8080/"
        },
        "id": "dzfL19H4cb8Q",
        "outputId": "cf2abaa8-f5eb-49a5-9679-dce2fd14a81d"
      },
      "execution_count": 40,
      "outputs": [
        {
          "output_type": "stream",
          "name": "stdout",
          "text": [
            "Пример очистки текста\n",
            "\n",
            "\u001b[31mТестовый образец:\u001b[0m\n",
            "\"https://opentextbc.ca/physicalgeology2ed/\n",
            "Physical Geology - 2nd Edition\n",
            "Physical Geology - 2nd Edition\n",
            "Steven Earle\n",
            "Karla Panchuk\n",
            "BCcampus\n",
            "Victoria, B.C.\n",
            "Icon for the Creative Commons Attribution 4.0 International License\n",
            "\n",
            "Physical Geology - 2nd Edition by Steven Earle is licensed under a Creative Commons Attribution 4.0 International License, except where otherwise noted.\n",
            "\n",
            "© 2019 Steven Earle\n",
            "\n",
            "The CC licence permits you to retain, reuse, copy, redistribute, and revise this book—in whole or in part—for free providing the author is attributed as follows:\n",
            "\n",
            "Physical Geology – 2nd Edition by Steven Earle is used under a Creative Commons Attribution 4.0 International Licence.\n",
            "If you redistribute all or part of this book, it is recommended the following statement be added to the copyright page so readers can access the original book at no cost:\n",
            "\n",
            "Download for free from the B.C. Open Collection\"\n",
            "\n",
            " \u001b[31m* Образец, очищенный с помощью функции clean (сохраняет знаки препинания и цифры)\u001b[0m\n",
            "\" Physical Geology - 2nd Edition Physical Geology - 2nd Edition Steven Earle Karla Panchuk BCcampus Victoria, B.C. Icon for the Creative Commons Attribution 4.0 International License Physical Geology - 2nd Edition by Steven Earle is licensed under a Creative Commons Attribution 4.0 International License, except where otherwise noted. 2019 Steven Earle The CC licence permits you to retain, reuse, copy, redistribute, and revise this book—in whole or in part—for free providing the author is attributed as follows: Physical Geology 2nd Edition by Steven Earle is used under a Creative Commons Attribution 4.0 International Licence. If you redistribute all or part of this book, it is recommended the following statement be added to the copyright page so readers can access the original book at no cost: Download for free from the B.C. Open Collection\"\n",
            "\n",
            " \u001b[31m* Образец, очищенный с помощью функции full_clean (очищает текст от знаков препинания)\u001b[0m\n",
            "\" Physical Geology 2nd Edition Physical Geology 2nd Edition Steven Earle Karla Panchuk BCcampus Victoria B C Icon for the Creative Commons Attribution 4 0 International License Physical Geology 2nd Edition by Steven Earle is licensed under a Creative Commons Attribution 4 0 International License except where otherwise noted 2019 Steven Earle The CC licence permits you to retain reuse copy redistribute and revise this book in whole or in part for free providing the author is attributed as follows Physical Geology 2nd Edition by Steven Earle is used under a Creative Commons Attribution 4 0 International Licence If you redistribute all or part of this book it is recommended the following statement be added to the copyright page so readers can access the original book at no cost Download for free from the B C Open Collection\"\n",
            "\n",
            " \u001b[31m* Образец, очищенный с помощью функции digits_clean (удаляет все символы кроме букв)\u001b[0m\n",
            "\" Physical Geology nd Edition Physical Geology nd Edition Steven Earle Karla Panchuk BCcampus Victoria B C Icon for the Creative Commons Attribution International License Physical Geology nd Edition by Steven Earle is licensed under a Creative Commons Attribution International License except where otherwise noted Steven Earle The CC licence permits you to retain reuse copy redistribute and revise this book in whole or in part for free providing the author is attributed as follows Physical Geology nd Edition by Steven Earle is used under a Creative Commons Attribution International Licence If you redistribute all or part of this book it is recommended the following statement be added to the copyright page so readers can access the original book at no cost Download for free from the B C Open Collection\"\n"
          ]
        }
      ]
    },
    {
      "cell_type": "markdown",
      "source": [
        "## Токенизация\n",
        "\n",
        "Рассмотрим несколько способов токенизации и создадим для каждого отдельную функцию."
      ],
      "metadata": {
        "id": "uBwi-Suv7r_p"
      }
    },
    {
      "cell_type": "code",
      "source": [
        "# простая токенизация\n",
        "\n",
        "def simple_tokenizer(text):\n",
        "  # принимает на вход текст\n",
        "  # приводит текст к нижнем регистру с помощью lower()\n",
        "  # \"рубит\" текст на элементы, разделенные пробелом (слова)\n",
        "  return text.lower().split(' ')\n",
        "\n",
        "# токенизация методами NLTK\n",
        "\n",
        "def nltk_tokenizer(text):\n",
        "  # применяет метод word_tokenize из nltk к тексту\n",
        "  return word_tokenize(text)\n",
        "\n",
        "# токенизация с помощью gensim\n",
        "\n",
        "def gensim_tokenizer(text, deacc):\n",
        "  # применяет метод simple_preprocess из gensim к тексту\n",
        "  # encode: кодировка текст\n",
        "  # deacc удаляет знаки препинания, принимает значения True / False\n",
        "  return simple_preprocess(str(text).encode('utf-8'), deacc)"
      ],
      "metadata": {
        "id": "wqyH5Qhg77mq"
      },
      "execution_count": 41,
      "outputs": []
    },
    {
      "cell_type": "code",
      "source": [
        "tokenized, nltk_tokenized, gensim_tokenized = simple_tokenizer(cleaned), nltk_tokenizer(cleaned), gensim_tokenizer(cleaned,True)\n",
        "\n",
        "print(f'Пример токенизации текста\\n\\n{Fore.RED}Тестовый образец:{Style.RESET_ALL}\\n\"{cleaned}\"\\n\\n \\\n",
        "{Fore.RED}* Образец, токенизированный с помощью функции simple_tokenizer {Style.RESET_ALL}\\n\"{tokenized}\"\\n\\n \\\n",
        "{Fore.RED}* Образец, токенизированный с помощью функции nltk_tokenizer {Style.RESET_ALL}\\n\"{nltk_tokenized}\"\\n\\n \\\n",
        "{Fore.RED}* Образец, токенизированный с помощью функции gensim_tokenizer {Style.RESET_ALL}\\n\"{gensim_tokenized}\"')"
      ],
      "metadata": {
        "colab": {
          "base_uri": "https://localhost:8080/"
        },
        "id": "9yJGdP0B9AcR",
        "outputId": "3de062f6-1188-41d5-d597-0f919261edea"
      },
      "execution_count": 42,
      "outputs": [
        {
          "output_type": "stream",
          "name": "stdout",
          "text": [
            "Пример токенизации текста\n",
            "\n",
            "\u001b[31mТестовый образец:\u001b[0m\n",
            "\" Physical Geology - 2nd Edition Physical Geology - 2nd Edition Steven Earle Karla Panchuk BCcampus Victoria, B.C. Icon for the Creative Commons Attribution 4.0 International License Physical Geology - 2nd Edition by Steven Earle is licensed under a Creative Commons Attribution 4.0 International License, except where otherwise noted. 2019 Steven Earle The CC licence permits you to retain, reuse, copy, redistribute, and revise this book—in whole or in part—for free providing the author is attributed as follows: Physical Geology 2nd Edition by Steven Earle is used under a Creative Commons Attribution 4.0 International Licence. If you redistribute all or part of this book, it is recommended the following statement be added to the copyright page so readers can access the original book at no cost: Download for free from the B.C. Open Collection\"\n",
            "\n",
            " \u001b[31m* Образец, токенизированный с помощью функции simple_tokenizer \u001b[0m\n",
            "\"['', 'physical', 'geology', '-', '2nd', 'edition', 'physical', 'geology', '-', '2nd', 'edition', 'steven', 'earle', 'karla', 'panchuk', 'bccampus', 'victoria,', 'b.c.', 'icon', 'for', 'the', 'creative', 'commons', 'attribution', '4.0', 'international', 'license', 'physical', 'geology', '-', '2nd', 'edition', 'by', 'steven', 'earle', 'is', 'licensed', 'under', 'a', 'creative', 'commons', 'attribution', '4.0', 'international', 'license,', 'except', 'where', 'otherwise', 'noted.', '2019', 'steven', 'earle', 'the', 'cc', 'licence', 'permits', 'you', 'to', 'retain,', 'reuse,', 'copy,', 'redistribute,', 'and', 'revise', 'this', 'book—in', 'whole', 'or', 'in', 'part—for', 'free', 'providing', 'the', 'author', 'is', 'attributed', 'as', 'follows:', 'physical', 'geology', '2nd', 'edition', 'by', 'steven', 'earle', 'is', 'used', 'under', 'a', 'creative', 'commons', 'attribution', '4.0', 'international', 'licence.', 'if', 'you', 'redistribute', 'all', 'or', 'part', 'of', 'this', 'book,', 'it', 'is', 'recommended', 'the', 'following', 'statement', 'be', 'added', 'to', 'the', 'copyright', 'page', 'so', 'readers', 'can', 'access', 'the', 'original', 'book', 'at', 'no', 'cost:', 'download', 'for', 'free', 'from', 'the', 'b.c.', 'open', 'collection']\"\n",
            "\n",
            " \u001b[31m* Образец, токенизированный с помощью функции nltk_tokenizer \u001b[0m\n",
            "\"['Physical', 'Geology', '-', '2nd', 'Edition', 'Physical', 'Geology', '-', '2nd', 'Edition', 'Steven', 'Earle', 'Karla', 'Panchuk', 'BCcampus', 'Victoria', ',', 'B.C', '.', 'Icon', 'for', 'the', 'Creative', 'Commons', 'Attribution', '4.0', 'International', 'License', 'Physical', 'Geology', '-', '2nd', 'Edition', 'by', 'Steven', 'Earle', 'is', 'licensed', 'under', 'a', 'Creative', 'Commons', 'Attribution', '4.0', 'International', 'License', ',', 'except', 'where', 'otherwise', 'noted', '.', '2019', 'Steven', 'Earle', 'The', 'CC', 'licence', 'permits', 'you', 'to', 'retain', ',', 'reuse', ',', 'copy', ',', 'redistribute', ',', 'and', 'revise', 'this', 'book—in', 'whole', 'or', 'in', 'part—for', 'free', 'providing', 'the', 'author', 'is', 'attributed', 'as', 'follows', ':', 'Physical', 'Geology', '2nd', 'Edition', 'by', 'Steven', 'Earle', 'is', 'used', 'under', 'a', 'Creative', 'Commons', 'Attribution', '4.0', 'International', 'Licence', '.', 'If', 'you', 'redistribute', 'all', 'or', 'part', 'of', 'this', 'book', ',', 'it', 'is', 'recommended', 'the', 'following', 'statement', 'be', 'added', 'to', 'the', 'copyright', 'page', 'so', 'readers', 'can', 'access', 'the', 'original', 'book', 'at', 'no', 'cost', ':', 'Download', 'for', 'free', 'from', 'the', 'B.C', '.', 'Open', 'Collection']\"\n",
            "\n",
            " \u001b[31m* Образец, токенизированный с помощью функции gensim_tokenizer \u001b[0m\n",
            "\"['physical', 'geology', 'nd', 'edition', 'physical', 'geology', 'nd', 'edition', 'steven', 'earle', 'karla', 'panchuk', 'bccampus', 'victoria', 'icon', 'for', 'the', 'creative', 'commons', 'attribution', 'international', 'license', 'physical', 'geology', 'nd', 'edition', 'by', 'steven', 'earle', 'is', 'licensed', 'under', 'creative', 'commons', 'attribution', 'international', 'license', 'except', 'where', 'otherwise', 'noted', 'steven', 'earle', 'the', 'cc', 'licence', 'permits', 'you', 'to', 'retain', 'reuse', 'copy', 'redistribute', 'and', 'revise', 'this', 'book', 'in', 'whole', 'or', 'in', 'part', 'for', 'free', 'providing', 'the', 'author', 'is', 'attributed', 'as', 'follows', 'physical', 'geology', 'nd', 'edition', 'by', 'steven', 'earle', 'is', 'used', 'under', 'creative', 'commons', 'attribution', 'international', 'licence', 'if', 'you', 'redistribute', 'all', 'or', 'part', 'of', 'this', 'book', 'it', 'is', 'recommended', 'the', 'following', 'statement', 'be', 'added', 'to', 'the', 'copyright', 'page', 'so', 'readers', 'can', 'access', 'the', 'original', 'book', 'at', 'no', 'cost', 'download', 'for', 'free', 'from', 'the', 'open', 'collection']\"\n"
          ]
        }
      ]
    },
    {
      "cell_type": "markdown",
      "source": [
        "## Удаление стоп-слов\n",
        "\n",
        "Попробуем три опции: \n",
        "\n",
        "- загрузка стоп-слов, которые предоставляет NLTK\n",
        "- загрузка стоп-слов, которые предоставляет Spacy\n",
        "- загрузка стоп-слов, которые предоставляет Gensim"
      ],
      "metadata": {
        "id": "0-1CL0XnEECG"
      }
    },
    {
      "cell_type": "code",
      "source": [],
      "metadata": {
        "colab": {
          "base_uri": "https://localhost:8080/"
        },
        "id": "96CImH1QGhNb",
        "outputId": "3c7d9a88-284e-435a-ce16-b70a50cfaaea"
      },
      "execution_count": 44,
      "outputs": [
        {
          "output_type": "stream",
          "name": "stderr",
          "text": [
            "[nltk_data] Downloading package stopwords to /root/nltk_data...\n",
            "[nltk_data]   Unzipping corpora/stopwords.zip.\n"
          ]
        },
        {
          "output_type": "execute_result",
          "data": {
            "text/plain": [
              "True"
            ]
          },
          "metadata": {},
          "execution_count": 44
        }
      ]
    },
    {
      "cell_type": "code",
      "source": [
        "def stopwords_nltk(text):\n",
        "  # принимает токенизированный текст\n",
        "  # сохраняем список слов в переменную\n",
        "  sw = stopwords.words('english')\n",
        "\n",
        "  # чтобы удалить стоп-слова, \"пробежимся\" по токенизированному списку\n",
        "  # если слово отсутсвует в списке стоп-слов, сохраним его в новый список tokenized_no_sw\n",
        "  return [x for x in text if not x in sw]\n",
        "\n",
        "def stopwords_spacy(text):\n",
        "  # загрузка spacy для английского языка\n",
        "  en = spacy.load('en_core_web_sm')\n",
        "  # загрузка стоп-слов\n",
        "  sw = en.Defaults.stop_words\n",
        "\n",
        "  return [x for x in text if not x in sw]\n",
        "\n",
        "def stopwords_gensim(text):\n",
        "  # загрузка стоп-слов из gensim\n",
        "  sw = STOPWORDS\n",
        "  \n",
        "  return [x for x in text if not x in sw]"
      ],
      "metadata": {
        "id": "6zFEfq_iEqhl"
      },
      "execution_count": 48,
      "outputs": []
    },
    {
      "cell_type": "code",
      "source": [
        "no_sw_nltk, no_sw_spacy, no_sw_gensim = stopwords_nltk(gensim_tokenized), stopwords_spacy(gensim_tokenized), stopwords_gensim(gensim_tokenized)\n",
        "\n",
        "print(f'Пример очистки текста от стоп-слов\\n\\n{Fore.RED}Тестовый образец:{Style.RESET_ALL}\\n\"{gensim_tokenized}\"\\n\\n \\\n",
        "{Fore.RED}* Образец, очищенный от стоп-слов с помощью функции NLTK {Style.RESET_ALL}\\n\"{no_sw_nltk}\"\\n\\n \\\n",
        "{Fore.RED}* Образец, очищенный от стоп-слов с помощью функции Spacy {Style.RESET_ALL}\\n\"{no_sw_spacy}\"\\n\\n \\\n",
        "{Fore.RED}* Образец, очищенный от стоп-слов с помощью функции Gensim {Style.RESET_ALL}\\n\"{no_sw_gensim}\"')"
      ],
      "metadata": {
        "colab": {
          "base_uri": "https://localhost:8080/"
        },
        "id": "Li5SJTeNHYlQ",
        "outputId": "5985e2d1-079a-4682-9c3a-c5f92389678a"
      },
      "execution_count": 49,
      "outputs": [
        {
          "output_type": "stream",
          "name": "stdout",
          "text": [
            "Пример очистки текста от стоп-слов\n",
            "\n",
            "\u001b[31mТестовый образец:\u001b[0m\n",
            "\"['physical', 'geology', 'nd', 'edition', 'physical', 'geology', 'nd', 'edition', 'steven', 'earle', 'karla', 'panchuk', 'bccampus', 'victoria', 'icon', 'for', 'the', 'creative', 'commons', 'attribution', 'international', 'license', 'physical', 'geology', 'nd', 'edition', 'by', 'steven', 'earle', 'is', 'licensed', 'under', 'creative', 'commons', 'attribution', 'international', 'license', 'except', 'where', 'otherwise', 'noted', 'steven', 'earle', 'the', 'cc', 'licence', 'permits', 'you', 'to', 'retain', 'reuse', 'copy', 'redistribute', 'and', 'revise', 'this', 'book', 'in', 'whole', 'or', 'in', 'part', 'for', 'free', 'providing', 'the', 'author', 'is', 'attributed', 'as', 'follows', 'physical', 'geology', 'nd', 'edition', 'by', 'steven', 'earle', 'is', 'used', 'under', 'creative', 'commons', 'attribution', 'international', 'licence', 'if', 'you', 'redistribute', 'all', 'or', 'part', 'of', 'this', 'book', 'it', 'is', 'recommended', 'the', 'following', 'statement', 'be', 'added', 'to', 'the', 'copyright', 'page', 'so', 'readers', 'can', 'access', 'the', 'original', 'book', 'at', 'no', 'cost', 'download', 'for', 'free', 'from', 'the', 'open', 'collection']\"\n",
            "\n",
            " \u001b[31m* Образец, очищенный от стоп-слов с помощью функции NLTK \u001b[0m\n",
            "\"['physical', 'geology', 'nd', 'edition', 'physical', 'geology', 'nd', 'edition', 'steven', 'earle', 'karla', 'panchuk', 'bccampus', 'victoria', 'icon', 'creative', 'commons', 'attribution', 'international', 'license', 'physical', 'geology', 'nd', 'edition', 'steven', 'earle', 'licensed', 'creative', 'commons', 'attribution', 'international', 'license', 'except', 'otherwise', 'noted', 'steven', 'earle', 'cc', 'licence', 'permits', 'retain', 'reuse', 'copy', 'redistribute', 'revise', 'book', 'whole', 'part', 'free', 'providing', 'author', 'attributed', 'follows', 'physical', 'geology', 'nd', 'edition', 'steven', 'earle', 'used', 'creative', 'commons', 'attribution', 'international', 'licence', 'redistribute', 'part', 'book', 'recommended', 'following', 'statement', 'added', 'copyright', 'page', 'readers', 'access', 'original', 'book', 'cost', 'download', 'free', 'open', 'collection']\"\n",
            "\n",
            " \u001b[31m* Образец, очищенный от стоп-слов с помощью функции Spacy \u001b[0m\n",
            "\"['physical', 'geology', 'nd', 'edition', 'physical', 'geology', 'nd', 'edition', 'steven', 'earle', 'karla', 'panchuk', 'bccampus', 'victoria', 'icon', 'creative', 'commons', 'attribution', 'international', 'license', 'physical', 'geology', 'nd', 'edition', 'steven', 'earle', 'licensed', 'creative', 'commons', 'attribution', 'international', 'license', 'noted', 'steven', 'earle', 'cc', 'licence', 'permits', 'retain', 'reuse', 'copy', 'redistribute', 'revise', 'book', 'free', 'providing', 'author', 'attributed', 'follows', 'physical', 'geology', 'nd', 'edition', 'steven', 'earle', 'creative', 'commons', 'attribution', 'international', 'licence', 'redistribute', 'book', 'recommended', 'following', 'statement', 'added', 'copyright', 'page', 'readers', 'access', 'original', 'book', 'cost', 'download', 'free', 'open', 'collection']\"\n",
            "\n",
            " \u001b[31m* Образец, очищенный от стоп-слов с помощью функции Gensim \u001b[0m\n",
            "\"['physical', 'geology', 'nd', 'edition', 'physical', 'geology', 'nd', 'edition', 'steven', 'earle', 'karla', 'panchuk', 'bccampus', 'victoria', 'icon', 'creative', 'commons', 'attribution', 'international', 'license', 'physical', 'geology', 'nd', 'edition', 'steven', 'earle', 'licensed', 'creative', 'commons', 'attribution', 'international', 'license', 'noted', 'steven', 'earle', 'cc', 'licence', 'permits', 'retain', 'reuse', 'copy', 'redistribute', 'revise', 'book', 'free', 'providing', 'author', 'attributed', 'follows', 'physical', 'geology', 'nd', 'edition', 'steven', 'earle', 'creative', 'commons', 'attribution', 'international', 'licence', 'redistribute', 'book', 'recommended', 'following', 'statement', 'added', 'copyright', 'page', 'readers', 'access', 'original', 'book', 'cost', 'download', 'free', 'open', 'collection']\"\n"
          ]
        }
      ]
    },
    {
      "cell_type": "code",
      "source": [
        "### TODO:\n",
        "### би- и триграммные модели gensim\n",
        "### посчитать TF \n",
        "### сделать частотный словарь "
      ],
      "metadata": {
        "id": "p5s-zHu1c8pc"
      },
      "execution_count": 43,
      "outputs": []
    }
  ]
}