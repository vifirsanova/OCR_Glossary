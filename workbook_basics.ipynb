{
  "nbformat": 4,
  "nbformat_minor": 0,
  "metadata": {
    "colab": {
      "provenance": [],
      "toc_visible": true,
      "authorship_tag": "ABX9TyNZZsHypM1mP2cEG7E+GzWz",
      "include_colab_link": true
    },
    "kernelspec": {
      "name": "python3",
      "display_name": "Python 3"
    },
    "language_info": {
      "name": "python"
    }
  },
  "cells": [
    {
      "cell_type": "markdown",
      "metadata": {
        "id": "view-in-github",
        "colab_type": "text"
      },
      "source": [
        "<a href=\"https://colab.research.google.com/github/vifirsanova/OCR_Glossary/blob/main/workbook_basics.ipynb\" target=\"_parent\"><img src=\"https://colab.research.google.com/assets/colab-badge.svg\" alt=\"Open In Colab\"/></a>"
      ]
    },
    {
      "cell_type": "markdown",
      "source": [
        "По всем вопросам: [vifirsanova@gmail.com]()"
      ],
      "metadata": {
        "id": "QZdixnSP8HPS"
      }
    },
    {
      "cell_type": "markdown",
      "source": [
        "# Загрузка библиотек"
      ],
      "metadata": {
        "id": "_m_0wE6MdX2U"
      }
    },
    {
      "cell_type": "code",
      "source": [
        "# удобная библиотека для работы с директориями\n",
        "# помогает быстро открывать файлы с разными расширениями\n",
        "\n",
        "from pathlib import Path\n",
        "\n",
        "# RegEx \n",
        "\n",
        "import re\n",
        "\n",
        "# NLTK\n",
        "\n",
        "import nltk\n",
        "nltk.download('punkt')\n",
        "\n",
        "# Collections\n",
        "\n",
        "import collections\n",
        "\n",
        "# Pandas\n",
        "\n",
        "import pandas as pd"
      ],
      "metadata": {
        "id": "ILYbSVT6Dpox"
      },
      "execution_count": 4,
      "outputs": []
    },
    {
      "cell_type": "markdown",
      "source": [
        "# Загрузка данных\n",
        "\n",
        "Загружаем текстовый файл с GitHub напрямую\n",
        "\n",
        "![image.png](data:image/png;base64,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)"
      ],
      "metadata": {
        "id": "8p791OLeDJc-"
      }
    },
    {
      "cell_type": "code",
      "execution_count": 1,
      "metadata": {
        "colab": {
          "base_uri": "https://localhost:8080/"
        },
        "id": "H-FoT3qgC5LI",
        "outputId": "230719e0-442b-4ab3-b27a-8827f7b4dff4"
      },
      "outputs": [
        {
          "output_type": "stream",
          "name": "stdout",
          "text": [
            "--2023-01-24 11:07:00--  https://raw.githubusercontent.com/vifirsanova/OCR_Glossary/main/Geology.txt\n",
            "Resolving raw.githubusercontent.com (raw.githubusercontent.com)... 185.199.108.133, 185.199.109.133, 185.199.110.133, ...\n",
            "Connecting to raw.githubusercontent.com (raw.githubusercontent.com)|185.199.108.133|:443... connected.\n",
            "HTTP request sent, awaiting response... 200 OK\n",
            "Length: 207953 (203K) [text/plain]\n",
            "Saving to: ‘Geology.txt’\n",
            "\n",
            "\rGeology.txt           0%[                    ]       0  --.-KB/s               \rGeology.txt         100%[===================>] 203.08K  --.-KB/s    in 0.005s  \n",
            "\n",
            "2023-01-24 11:07:00 (40.4 MB/s) - ‘Geology.txt’ saved [207953/207953]\n",
            "\n"
          ]
        }
      ],
      "source": [
        "# для загрузки файлов используем команду wget\n",
        "# это консольная команда Linux (не Python)\n",
        "# Google Colab позволяет использовать консольные команды вместе с программным кодом на Python\n",
        "\n",
        "!wget https://raw.githubusercontent.com/vifirsanova/OCR_Glossary/main/Geology.txt"
      ]
    },
    {
      "cell_type": "markdown",
      "source": [
        "Открываем файл и сохраняем для использования"
      ],
      "metadata": {
        "id": "PGS13GPwEjLQ"
      }
    },
    {
      "cell_type": "code",
      "source": [
        "# используем библиотеку Path вместо нативного метода\n",
        "# в перменной text хранится сырой текст\n",
        "\n",
        "text = Path('Geology.txt').read_text()\n",
        "\n",
        "# в Colab можно посмотреть на данные, не вызывая print\n",
        "# достаточно указать имя переменной внизу блока с кодом\n",
        "# посмотрим на часть данных из середины\n",
        "\n",
        "text[1000:1500]"
      ],
      "metadata": {
        "colab": {
          "base_uri": "https://localhost:8080/",
          "height": 91
        },
        "id": "Omoqjk4kdRuu",
        "outputId": "30a69acc-83ab-4c1c-9361-d56931d6abe3"
      },
      "execution_count": 81,
      "outputs": [
        {
          "output_type": "execute_result",
          "data": {
            "text/plain": [
              "'scientific study.\\nExplain rhetorical arguments used by science deniers.\\n1.1 What is Science?\\nScientists seek to understand the fundamental principles that explain natural patterns and processes. Science is more than just a body of knowledge, science provides a means to evaluate and create new knowledge without bias. Scientists use objective evidence over subjective evidence, to reach sound and logical conclusions.\\nAn objective observation is without personal bias and the same by all individuals.'"
            ],
            "application/vnd.google.colaboratory.intrinsic+json": {
              "type": "string"
            }
          },
          "metadata": {},
          "execution_count": 81
        }
      ]
    },
    {
      "cell_type": "markdown",
      "source": [
        "# Элементарный алгоритм для построения частотного словаря\n",
        "\n",
        "Сначала попробуем самый простой метод, создание частотного словаря без построения представлений слов"
      ],
      "metadata": {
        "id": "cSA2AeJVemKE"
      }
    },
    {
      "cell_type": "markdown",
      "source": [
        "## Чистка данных с помощью RegEx\n",
        "\n",
        "Какие символы могут вызвать трудности для обработки текста?\n",
        "\n",
        "* Знаки препинания и цифры"
      ],
      "metadata": {
        "id": "U1TQPEE1f612"
      }
    },
    {
      "cell_type": "code",
      "source": [
        "# заменяем на пробел все символы кроме букв, апострофов и дефисов\n",
        "\n",
        "clean_text_ = re.sub(\"[^a-zA-Z’-]\", \" \", text)\n",
        "clean_text_[2000:2500]"
      ],
      "metadata": {
        "colab": {
          "base_uri": "https://localhost:8080/",
          "height": 91
        },
        "id": "Cy31gl6qfnIs",
        "outputId": "896b2640-9cc7-49b5-8e41-57cadff4baf0"
      },
      "execution_count": 105,
      "outputs": [
        {
          "output_type": "execute_result",
          "data": {
            "text/plain": [
              "' heavy is a qualitative observation  Determining a rock’s color by measuring wavelengths of reflected light or its density by measuring the proportions of minerals it contains is quantitative  Numerical values are more precise than general descriptions  and they can be analyzed using statistical calculations  This is why quantitative measurements are much more useful to scientists than qualitative observations  Establishing truth in science is difficult because all scientific claims are falsifia'"
            ],
            "application/vnd.google.colaboratory.intrinsic+json": {
              "type": "string"
            }
          },
          "metadata": {},
          "execution_count": 105
        }
      ]
    },
    {
      "cell_type": "markdown",
      "source": [
        "* Лишние пробелы"
      ],
      "metadata": {
        "id": "sWQaU3QFe8GY"
      }
    },
    {
      "cell_type": "code",
      "source": [
        "clean_text = re.sub(\"\\s+\", \" \", clean_text_)\n",
        "clean_text[2000:2500]"
      ],
      "metadata": {
        "colab": {
          "base_uri": "https://localhost:8080/",
          "height": 91
        },
        "id": "vtq7PN2adjqy",
        "outputId": "e5a167fc-6d6b-4949-feb3-81403073914d"
      },
      "execution_count": 109,
      "outputs": [
        {
          "output_type": "execute_result",
          "data": {
            "text/plain": [
              "' by measuring wavelengths of reflected light or its density by measuring the proportions of minerals it contains is quantitative Numerical values are more precise than general descriptions and they can be analyzed using statistical calculations This is why quantitative measurements are much more useful to scientists than qualitative observations Establishing truth in science is difficult because all scientific claims are falsifiable which means any initial hypothesis may be tested and proven fal'"
            ],
            "application/vnd.google.colaboratory.intrinsic+json": {
              "type": "string"
            }
          },
          "metadata": {},
          "execution_count": 109
        }
      ]
    },
    {
      "cell_type": "markdown",
      "source": [
        "### Маленькое упражнение\n",
        "\n",
        "В этом тексте есть:\n",
        "* HTML-артефакты `<div>`\n",
        "* лишние пробелы \n",
        "* ссылка `http://login.com`\n",
        "* ненужные символы `# &`\n",
        "\n",
        "Предлагаю почистить этот пример с помощью RegEx, чтобы потренироваться с регулярными выражениями.\n",
        "\n",
        "Пример можно найти здесь: https://turbolab.in/data-cleaning-using-regular-expression/"
      ],
      "metadata": {
        "id": "oXJmdMO7g03S"
      }
    },
    {
      "cell_type": "code",
      "source": [
        "test = '<div>      What is Science?&  Scientists seek to understand the fundamental# principles that explain natural patterns and processes.  Science http://login.com '\n",
        "\n",
        "clean_test = ### ВВЕДИТЕ СЮДА СВОЙ КОД ###"
      ],
      "metadata": {
        "id": "x9GcpULPgG0F"
      },
      "execution_count": null,
      "outputs": []
    },
    {
      "cell_type": "markdown",
      "source": [
        "## Токенизация\n",
        "\n",
        "Завершим предобработку: приведем все слова к нижнему регистру и сделаем пословную токенизацию"
      ],
      "metadata": {
        "id": "EqDpoDIWn1Ex"
      }
    },
    {
      "cell_type": "code",
      "source": [
        "# функция для простой токенизации\n",
        "# принимает на вход текст\n",
        "# приводит текст к нижнем регистру с помощью lower()\n",
        "# \"рубит\" текст на элементы, разделенные пробелом (слова)\n",
        "\n",
        "def tokenize(text):\n",
        "  return text.lower().split(' ')\n",
        "\n",
        "tokenized = tokenize(clean_text)\n",
        "tokenized[200:210]"
      ],
      "metadata": {
        "colab": {
          "base_uri": "https://localhost:8080/"
        },
        "id": "NnwgiFVmiG-g",
        "outputId": "74bd1b5b-0c65-4637-8787-03b63df58b30"
      },
      "execution_count": 120,
      "outputs": [
        {
          "output_type": "execute_result",
          "data": {
            "text/plain": [
              "['same',\n",
              " 'by',\n",
              " 'all',\n",
              " 'individuals',\n",
              " 'humans',\n",
              " 'are',\n",
              " 'biased',\n",
              " 'by',\n",
              " 'nature',\n",
              " 'so']"
            ]
          },
          "metadata": {},
          "execution_count": 120
        }
      ]
    },
    {
      "cell_type": "markdown",
      "source": [
        "Сравним с токенизацией NLTK"
      ],
      "metadata": {
        "id": "0wPf40phri6P"
      }
    },
    {
      "cell_type": "code",
      "source": [
        "# импортируем токенизатор NLTK\n",
        "\n",
        "from nltk.tokenize import word_tokenize\n",
        "\n",
        "# применим токенизатор к двум текстам: \n",
        "# к сырому\n",
        "\n",
        "text_tokens = word_tokenize(text)\n",
        "\n",
        "# и к чистому\n",
        "\n",
        "clean_text_tokens = word_tokenize(clean_text)\n",
        "\n",
        "print('Токенизированный \"чистый текст\"', clean_text_tokens[200:210])\n",
        "print('Токенизированный \"сырой текст\"', text_tokens[200:210])"
      ],
      "metadata": {
        "colab": {
          "base_uri": "https://localhost:8080/"
        },
        "id": "V72e1NiLrCRx",
        "outputId": "dcf6713b-05d0-47fd-b610-0e87de34f6c4"
      },
      "execution_count": 119,
      "outputs": [
        {
          "output_type": "stream",
          "name": "stdout",
          "text": [
            "Токенизированный \"чистый текст\" ['conclusions', 'An', 'objective', 'observation', 'is', 'without', 'personal', 'bias', 'and', 'the']\n",
            "Токенизированный \"сырой текст\" ['to', 'evaluate', 'and', 'create', 'new', 'knowledge', 'without', 'bias', '.', 'Scientists']\n"
          ]
        }
      ]
    },
    {
      "cell_type": "markdown",
      "source": [
        "## Удаление стоп-слов\n",
        "\n"
      ],
      "metadata": {
        "id": "mgPgbrr6qU3P"
      }
    },
    {
      "cell_type": "code",
      "source": [
        "# загрузим список стоп-слов из NLTK \n",
        "\n",
        "from nltk.corpus import stopwords\n",
        "nltk.download('stopwords')\n",
        "\n",
        "# сохраним стоп-слова для английского языка в отдельный список\n",
        "\n",
        "sw = stopwords.words('english')"
      ],
      "metadata": {
        "colab": {
          "base_uri": "https://localhost:8080/"
        },
        "id": "eKHZVgRdonsY",
        "outputId": "38bcd7e4-b256-496b-dc73-b3302ea3a6da"
      },
      "execution_count": 128,
      "outputs": [
        {
          "output_type": "stream",
          "name": "stdout",
          "text": [
            "['i', 'me', 'my', 'myself', 'we', 'our', 'ours', 'ourselves', 'you', \"you're\"]\n"
          ]
        },
        {
          "output_type": "stream",
          "name": "stderr",
          "text": [
            "[nltk_data] Downloading package stopwords to /root/nltk_data...\n",
            "[nltk_data]   Package stopwords is already up-to-date!\n"
          ]
        }
      ]
    },
    {
      "cell_type": "code",
      "source": [
        "# посмотрим на предложенный список\n",
        "\n",
        "print(sw[:10])"
      ],
      "metadata": {
        "colab": {
          "base_uri": "https://localhost:8080/"
        },
        "id": "9Xu2ZnvCt462",
        "outputId": "c52f108e-99dd-478b-9305-8bc967d65ea4"
      },
      "execution_count": 129,
      "outputs": [
        {
          "output_type": "stream",
          "name": "stdout",
          "text": [
            "['i', 'me', 'my', 'myself', 'we', 'our', 'ours', 'ourselves', 'you', \"you're\"]\n"
          ]
        }
      ]
    },
    {
      "cell_type": "code",
      "source": [
        "# чтобы удалить стоп-слова, \"пробежимся\" по токенизированному списку\n",
        "# если слово отсутсвует в списке стоп-слов, сохраним его в новый список tokenized_no_sw\n",
        "\n",
        "tokenized_no_sw = [x for x in tokenized if not x in sw]\n",
        "\n",
        "# посмотрим на новый список \n",
        "\n",
        "tokenized_no_sw[200:210]"
      ],
      "metadata": {
        "colab": {
          "base_uri": "https://localhost:8080/"
        },
        "id": "sr_xG3qPtLaF",
        "outputId": "83adc10a-e2ec-4629-a6bb-3030fbe60c54"
      },
      "execution_count": 130,
      "outputs": [
        {
          "output_type": "execute_result",
          "data": {
            "text/plain": [
              "['scientists',\n",
              " 'qualitative',\n",
              " 'observations',\n",
              " 'establishing',\n",
              " 'truth',\n",
              " 'science',\n",
              " 'difficult',\n",
              " 'scientific',\n",
              " 'claims',\n",
              " 'falsifiable']"
            ]
          },
          "metadata": {},
          "execution_count": 130
        }
      ]
    },
    {
      "cell_type": "markdown",
      "source": [
        "### Маленькое упражнение\n",
        "\n",
        "Допустим, мы хотим дополнить список стоп-слов терминами из нашей предметной области. Новые стоп-слова хранятся в списке `domain_list`. \n",
        "\n",
        "Как обновить токенизированный список, удалив из него новые стоп-слова?"
      ],
      "metadata": {
        "id": "cj540y8RuoZp"
      }
    },
    {
      "cell_type": "code",
      "source": [
        "domain_list = ['scientists', 'claims', 'science']\n",
        "\n",
        "### ВВЕДИТЕ КОД ЗДЕСЬ ###\n",
        "### ВВЕДИТЕ КОД ЗДЕСЬ ###\n",
        "### ВВЕДИТЕ КОД ЗДЕСЬ ###\n",
        "\n",
        "new_tokens_without_sw = ### ВВЕДИТЕ КОД ЗДЕСЬ ###\n",
        "\n",
        "new_tokens_without_sw[200:210]\n",
        "\n",
        "# Ожидаемые выходные данные: ['initial', 'hypothesis', 'may', 'tested', 'proven', 'false', 'exhaustively', 'eliminating', 'false', 'results']"
      ],
      "metadata": {
        "colab": {
          "base_uri": "https://localhost:8080/"
        },
        "id": "3drzGYAzunZm",
        "outputId": "e0bd7669-34aa-4594-9a0f-46552c2ba9f3"
      },
      "execution_count": 143,
      "outputs": [
        {
          "output_type": "stream",
          "name": "stdout",
          "text": [
            "['initial', 'hypothesis', 'may', 'tested', 'proven', 'false', 'exhaustively', 'eliminating', 'false', 'results']\n"
          ]
        }
      ]
    },
    {
      "cell_type": "markdown",
      "source": [
        "Посмотреть, как использовать другие библиотеки для работы со стоп-словами: https://stackabuse.com/removing-stop-words-from-strings-in-python/#usingthespacylibrary"
      ],
      "metadata": {
        "id": "jw6hjfr0w-0X"
      }
    },
    {
      "cell_type": "markdown",
      "source": [
        "## Лемматизация"
      ],
      "metadata": {
        "id": "VRnTVx0gxKtE"
      }
    },
    {
      "cell_type": "code",
      "source": [
        "# продолжим работу с NLTK, загрузим готовый лемматизатор\n",
        "\n",
        "from nltk.stem import WordNetLemmatizer\n",
        "nltk.download('wordnet')\n",
        "nltk.download('omw-1.4')\n",
        "\n",
        "# инициализируем лемматизатор\n",
        "\n",
        "lemmatizer = WordNetLemmatizer()"
      ],
      "metadata": {
        "id": "PSyzMKWUxE4H"
      },
      "execution_count": null,
      "outputs": []
    },
    {
      "cell_type": "code",
      "source": [
        "# применим лемматизатор к каждому элементу из списка токенов, очищенных от стоп-слов \n",
        "\n",
        "lemmatized = [lemmatizer.lemmatize(x) for x in tokenized_no_sw]\n",
        "\n",
        "# посмотрим на результаты лемматизации\n",
        "\n",
        "print('До лемматизации:   ', tokenized_no_sw[200:210], '\\nПосле лемматизации:', lemmatized[200:210])"
      ],
      "metadata": {
        "colab": {
          "base_uri": "https://localhost:8080/"
        },
        "id": "B69wVk3yx-us",
        "outputId": "68da6323-3e95-4fc9-f058-dbb461d37dd8"
      },
      "execution_count": 165,
      "outputs": [
        {
          "output_type": "stream",
          "name": "stdout",
          "text": [
            "До лемматизации:    ['scientists', 'qualitative', 'observations', 'establishing', 'truth', 'science', 'difficult', 'scientific', 'claims', 'falsifiable'] \n",
            "После лемматизации: ['scientist', 'qualitative', 'observation', 'establishing', 'truth', 'science', 'difficult', 'scientific', 'claim', 'falsifiable']\n"
          ]
        }
      ]
    },
    {
      "cell_type": "markdown",
      "source": [
        "### Упражнение / рефлексия\n",
        "\n",
        "Ниже приведен пример использования библиотеки Spacy для лемматизации для русского и английского языков.\n",
        "\n",
        "Как можно применить ее для решения ваших задач?\n",
        "\n",
        "В чем принципиальное отличие от NLTK?"
      ],
      "metadata": {
        "id": "6MBr8VXn0b9Y"
      }
    },
    {
      "cell_type": "code",
      "source": [
        "# загрузка spacy\n",
        "\n",
        "import spacy\n",
        "nlp = spacy.load('en_core_web_sm')\n",
        "\n",
        "# пример использования лемматизации\n",
        "\n",
        "doc = nlp(u\"This is a basic example of Spacy lemmatization. There are so many lemmatizers!\")\n",
        "\n",
        "for token in doc:\n",
        "    print(token, token.lemma_)"
      ],
      "metadata": {
        "colab": {
          "base_uri": "https://localhost:8080/"
        },
        "id": "wefRC4-5zGS3",
        "outputId": "65cc006c-90bf-4f0a-e049-a5ba25e33e1b"
      },
      "execution_count": 173,
      "outputs": [
        {
          "output_type": "stream",
          "name": "stdout",
          "text": [
            "This this\n",
            "is be\n",
            "a a\n",
            "basic basic\n",
            "example example\n",
            "of of\n",
            "Spacy Spacy\n",
            "lemmatization lemmatization\n",
            ". .\n",
            "There there\n",
            "are be\n",
            "so so\n",
            "many many\n",
            "lemmatizers lemmatizer\n",
            "! !\n"
          ]
        }
      ]
    },
    {
      "cell_type": "code",
      "source": [
        "# загрузка данных spacy для русского языка\n",
        "\n",
        "!python -m spacy download ru_core_news_sm"
      ],
      "metadata": {
        "id": "P1O93QHA1bZn"
      },
      "execution_count": null,
      "outputs": []
    },
    {
      "cell_type": "code",
      "source": [
        "# использование spacy для русского языка\n",
        "\n",
        "nlp = spacy.load('ru_core_news_sm')\n",
        "\n",
        "doc = nlp(u\"Это простой пример лемматизации с помощью Spacy.\")\n",
        "\n",
        "for token in doc:\n",
        "    print(token, token.lemma_)"
      ],
      "metadata": {
        "colab": {
          "base_uri": "https://localhost:8080/"
        },
        "id": "8ZWmngJ_0MUt",
        "outputId": "d223f285-9ba4-49ec-e331-ce075332d76e"
      },
      "execution_count": 178,
      "outputs": [
        {
          "output_type": "stream",
          "name": "stdout",
          "text": [
            "Это это\n",
            "простой простой\n",
            "пример пример\n",
            "лемматизации лемматизация\n",
            "с с\n",
            "помощью помощь\n",
            "Spacy spacy\n",
            ". .\n"
          ]
        }
      ]
    },
    {
      "cell_type": "markdown",
      "source": [
        "## Построение сложного словаря с помощью Collections"
      ],
      "metadata": {
        "id": "fDtzw90L3djt"
      }
    },
    {
      "cell_type": "code",
      "source": [
        "# нам понадобится один метод из библиотеки Collections\n",
        "\n",
        "from collections import Counter\n",
        "\n",
        "# частотный словарь строится автоматически\n",
        "\n",
        "glossary = Counter(lemmatized)\n",
        "\n",
        "# сохраним наиболее частотные элементы словаря\n",
        "\n",
        "freq_glossary = glossary.most_common(100)\n",
        "\n",
        "# посмотрим на результат\n",
        "\n",
        "freq_glossary[:10]"
      ],
      "metadata": {
        "colab": {
          "base_uri": "https://localhost:8080/"
        },
        "id": "F6LICPk-1_-h",
        "outputId": "6141b9da-a9c0-4bb7-dddf-521a63accf8b"
      },
      "execution_count": 190,
      "outputs": [
        {
          "output_type": "execute_result",
          "data": {
            "text/plain": [
              "[('mineral', 295),\n",
              " ('rock', 263),\n",
              " ('plate', 207),\n",
              " ('magma', 147),\n",
              " ('called', 112),\n",
              " ('crystal', 108),\n",
              " ('continental', 88),\n",
              " ('volcano', 85),\n",
              " ('example', 83),\n",
              " ('scientific', 81)]"
            ]
          },
          "metadata": {},
          "execution_count": 190
        }
      ]
    },
    {
      "cell_type": "markdown",
      "source": [
        "### Анализ\n",
        "\n",
        "* Такие примеры, как `called` и `example`, можно добавить в список стоп-слов\n",
        "* Такой список не содержит словосочетаний\n",
        "* Питоновский `dict` не удобен для визуализации\n",
        "* Что еще можно улучшить? Как это сделать?"
      ],
      "metadata": {
        "id": "Hpvx-7Uu4ME_"
      }
    },
    {
      "cell_type": "markdown",
      "source": [
        "# Визуализация результатов\n",
        "\n",
        "Визуализировать данные можно с помощью библиотеки Pandas, популярного инструмента для Data Science."
      ],
      "metadata": {
        "id": "SSnJNzeF4t_v"
      }
    },
    {
      "cell_type": "code",
      "source": [
        "# преобразуем словарь к виду таблицы (объект DataFrame)\n",
        "# выбираем названия колонок\n",
        "# отображаем в Google Colab\n",
        "\n",
        "df = pd.DataFrame(freq_glossary, columns =['word', 'frequency'])\n",
        "  \n",
        "df.style"
      ],
      "metadata": {
        "colab": {
          "base_uri": "https://localhost:8080/",
          "height": 1000
        },
        "id": "l_Wme71E4LaD",
        "outputId": "e9d4721f-ac1a-4057-e334-39eba0786379"
      },
      "execution_count": 198,
      "outputs": [
        {
          "output_type": "execute_result",
          "data": {
            "text/plain": [
              "<pandas.io.formats.style.Styler at 0x7f2b23419100>"
            ],
            "text/html": [
              "<style type=\"text/css\">\n",
              "</style>\n",
              "<table id=\"T_2b330_\" class=\"dataframe\">\n",
              "  <thead>\n",
              "    <tr>\n",
              "      <th class=\"blank level0\" >&nbsp;</th>\n",
              "      <th class=\"col_heading level0 col0\" >word</th>\n",
              "      <th class=\"col_heading level0 col1\" >frequency</th>\n",
              "    </tr>\n",
              "  </thead>\n",
              "  <tbody>\n",
              "    <tr>\n",
              "      <th id=\"T_2b330_level0_row0\" class=\"row_heading level0 row0\" >0</th>\n",
              "      <td id=\"T_2b330_row0_col0\" class=\"data row0 col0\" >mineral</td>\n",
              "      <td id=\"T_2b330_row0_col1\" class=\"data row0 col1\" >295</td>\n",
              "    </tr>\n",
              "    <tr>\n",
              "      <th id=\"T_2b330_level0_row1\" class=\"row_heading level0 row1\" >1</th>\n",
              "      <td id=\"T_2b330_row1_col0\" class=\"data row1 col0\" >rock</td>\n",
              "      <td id=\"T_2b330_row1_col1\" class=\"data row1 col1\" >263</td>\n",
              "    </tr>\n",
              "    <tr>\n",
              "      <th id=\"T_2b330_level0_row2\" class=\"row_heading level0 row2\" >2</th>\n",
              "      <td id=\"T_2b330_row2_col0\" class=\"data row2 col0\" >plate</td>\n",
              "      <td id=\"T_2b330_row2_col1\" class=\"data row2 col1\" >207</td>\n",
              "    </tr>\n",
              "    <tr>\n",
              "      <th id=\"T_2b330_level0_row3\" class=\"row_heading level0 row3\" >3</th>\n",
              "      <td id=\"T_2b330_row3_col0\" class=\"data row3 col0\" >magma</td>\n",
              "      <td id=\"T_2b330_row3_col1\" class=\"data row3 col1\" >147</td>\n",
              "    </tr>\n",
              "    <tr>\n",
              "      <th id=\"T_2b330_level0_row4\" class=\"row_heading level0 row4\" >4</th>\n",
              "      <td id=\"T_2b330_row4_col0\" class=\"data row4 col0\" >called</td>\n",
              "      <td id=\"T_2b330_row4_col1\" class=\"data row4 col1\" >112</td>\n",
              "    </tr>\n",
              "    <tr>\n",
              "      <th id=\"T_2b330_level0_row5\" class=\"row_heading level0 row5\" >5</th>\n",
              "      <td id=\"T_2b330_row5_col0\" class=\"data row5 col0\" >crystal</td>\n",
              "      <td id=\"T_2b330_row5_col1\" class=\"data row5 col1\" >108</td>\n",
              "    </tr>\n",
              "    <tr>\n",
              "      <th id=\"T_2b330_level0_row6\" class=\"row_heading level0 row6\" >6</th>\n",
              "      <td id=\"T_2b330_row6_col0\" class=\"data row6 col0\" >continental</td>\n",
              "      <td id=\"T_2b330_row6_col1\" class=\"data row6 col1\" >88</td>\n",
              "    </tr>\n",
              "    <tr>\n",
              "      <th id=\"T_2b330_level0_row7\" class=\"row_heading level0 row7\" >7</th>\n",
              "      <td id=\"T_2b330_row7_col0\" class=\"data row7 col0\" >volcano</td>\n",
              "      <td id=\"T_2b330_row7_col1\" class=\"data row7 col1\" >85</td>\n",
              "    </tr>\n",
              "    <tr>\n",
              "      <th id=\"T_2b330_level0_row8\" class=\"row_heading level0 row8\" >8</th>\n",
              "      <td id=\"T_2b330_row8_col0\" class=\"data row8 col0\" >example</td>\n",
              "      <td id=\"T_2b330_row8_col1\" class=\"data row8 col1\" >83</td>\n",
              "    </tr>\n",
              "    <tr>\n",
              "      <th id=\"T_2b330_level0_row9\" class=\"row_heading level0 row9\" >9</th>\n",
              "      <td id=\"T_2b330_row9_col0\" class=\"data row9 col0\" >scientific</td>\n",
              "      <td id=\"T_2b330_row9_col1\" class=\"data row9 col1\" >81</td>\n",
              "    </tr>\n",
              "    <tr>\n",
              "      <th id=\"T_2b330_level0_row10\" class=\"row_heading level0 row10\" >10</th>\n",
              "      <td id=\"T_2b330_row10_col0\" class=\"data row10 col0\" >may</td>\n",
              "      <td id=\"T_2b330_row10_col1\" class=\"data row10 col1\" >81</td>\n",
              "    </tr>\n",
              "    <tr>\n",
              "      <th id=\"T_2b330_level0_row11\" class=\"row_heading level0 row11\" >11</th>\n",
              "      <td id=\"T_2b330_row11_col0\" class=\"data row11 col0\" >lava</td>\n",
              "      <td id=\"T_2b330_row11_col1\" class=\"data row11 col1\" >81</td>\n",
              "    </tr>\n",
              "    <tr>\n",
              "      <th id=\"T_2b330_level0_row12\" class=\"row_heading level0 row12\" >12</th>\n",
              "      <td id=\"T_2b330_row12_col0\" class=\"data row12 col0\" >form</td>\n",
              "      <td id=\"T_2b330_row12_col1\" class=\"data row12 col1\" >79</td>\n",
              "    </tr>\n",
              "    <tr>\n",
              "      <th id=\"T_2b330_level0_row13\" class=\"row_heading level0 row13\" >13</th>\n",
              "      <td id=\"T_2b330_row13_col0\" class=\"data row13 col0\" >surface</td>\n",
              "      <td id=\"T_2b330_row13_col1\" class=\"data row13 col1\" >77</td>\n",
              "    </tr>\n",
              "    <tr>\n",
              "      <th id=\"T_2b330_level0_row14\" class=\"row_heading level0 row14\" >14</th>\n",
              "      <td id=\"T_2b330_row14_col0\" class=\"data row14 col0\" >earth</td>\n",
              "      <td id=\"T_2b330_row14_col1\" class=\"data row14 col1\" >76</td>\n",
              "    </tr>\n",
              "    <tr>\n",
              "      <th id=\"T_2b330_level0_row15\" class=\"row_heading level0 row15\" >15</th>\n",
              "      <td id=\"T_2b330_row15_col0\" class=\"data row15 col0\" >mantle</td>\n",
              "      <td id=\"T_2b330_row15_col1\" class=\"data row15 col1\" >76</td>\n",
              "    </tr>\n",
              "    <tr>\n",
              "      <th id=\"T_2b330_level0_row16\" class=\"row_heading level0 row16\" >16</th>\n",
              "      <td id=\"T_2b330_row16_col0\" class=\"data row16 col0\" >like</td>\n",
              "      <td id=\"T_2b330_row16_col1\" class=\"data row16 col1\" >73</td>\n",
              "    </tr>\n",
              "    <tr>\n",
              "      <th id=\"T_2b330_level0_row17\" class=\"row_heading level0 row17\" >17</th>\n",
              "      <td id=\"T_2b330_row17_col0\" class=\"data row17 col0\" >process</td>\n",
              "      <td id=\"T_2b330_row17_col1\" class=\"data row17 col1\" >72</td>\n",
              "    </tr>\n",
              "    <tr>\n",
              "      <th id=\"T_2b330_level0_row18\" class=\"row_heading level0 row18\" >18</th>\n",
              "      <td id=\"T_2b330_row18_col0\" class=\"data row18 col0\" >scientist</td>\n",
              "      <td id=\"T_2b330_row18_col1\" class=\"data row18 col1\" >71</td>\n",
              "    </tr>\n",
              "    <tr>\n",
              "      <th id=\"T_2b330_level0_row19\" class=\"row_heading level0 row19\" >19</th>\n",
              "      <td id=\"T_2b330_row19_col0\" class=\"data row19 col0\" >also</td>\n",
              "      <td id=\"T_2b330_row19_col1\" class=\"data row19 col1\" >70</td>\n",
              "    </tr>\n",
              "    <tr>\n",
              "      <th id=\"T_2b330_level0_row20\" class=\"row_heading level0 row20\" >20</th>\n",
              "      <td id=\"T_2b330_row20_col0\" class=\"data row20 col0\" >element</td>\n",
              "      <td id=\"T_2b330_row20_col1\" class=\"data row20 col1\" >68</td>\n",
              "    </tr>\n",
              "    <tr>\n",
              "      <th id=\"T_2b330_level0_row21\" class=\"row_heading level0 row21\" >21</th>\n",
              "      <td id=\"T_2b330_row21_col0\" class=\"data row21 col0\" >two</td>\n",
              "      <td id=\"T_2b330_row21_col1\" class=\"data row21 col1\" >66</td>\n",
              "    </tr>\n",
              "    <tr>\n",
              "      <th id=\"T_2b330_level0_row22\" class=\"row_heading level0 row22\" >22</th>\n",
              "      <td id=\"T_2b330_row22_col0\" class=\"data row22 col0\" >melting</td>\n",
              "      <td id=\"T_2b330_row22_col1\" class=\"data row22 col1\" >65</td>\n",
              "    </tr>\n",
              "    <tr>\n",
              "      <th id=\"T_2b330_level0_row23\" class=\"row_heading level0 row23\" >23</th>\n",
              "      <td id=\"T_2b330_row23_col0\" class=\"data row23 col0\" >volcanic</td>\n",
              "      <td id=\"T_2b330_row23_col1\" class=\"data row23 col1\" >63</td>\n",
              "    </tr>\n",
              "    <tr>\n",
              "      <th id=\"T_2b330_level0_row24\" class=\"row_heading level0 row24\" >24</th>\n",
              "      <td id=\"T_2b330_row24_col0\" class=\"data row24 col0\" >igneous</td>\n",
              "      <td id=\"T_2b330_row24_col1\" class=\"data row24 col1\" >63</td>\n",
              "    </tr>\n",
              "    <tr>\n",
              "      <th id=\"T_2b330_level0_row25\" class=\"row_heading level0 row25\" >25</th>\n",
              "      <td id=\"T_2b330_row25_col0\" class=\"data row25 col0\" >temperature</td>\n",
              "      <td id=\"T_2b330_row25_col1\" class=\"data row25 col1\" >63</td>\n",
              "    </tr>\n",
              "    <tr>\n",
              "      <th id=\"T_2b330_level0_row26\" class=\"row_heading level0 row26\" >26</th>\n",
              "      <td id=\"T_2b330_row26_col0\" class=\"data row26 col0\" >one</td>\n",
              "      <td id=\"T_2b330_row26_col1\" class=\"data row26 col1\" >61</td>\n",
              "    </tr>\n",
              "    <tr>\n",
              "      <th id=\"T_2b330_level0_row27\" class=\"row_heading level0 row27\" >27</th>\n",
              "      <td id=\"T_2b330_row27_col0\" class=\"data row27 col0\" >crust</td>\n",
              "      <td id=\"T_2b330_row27_col1\" class=\"data row27 col1\" >59</td>\n",
              "    </tr>\n",
              "    <tr>\n",
              "      <th id=\"T_2b330_level0_row28\" class=\"row_heading level0 row28\" >28</th>\n",
              "      <td id=\"T_2b330_row28_col0\" class=\"data row28 col0\" >cleavage</td>\n",
              "      <td id=\"T_2b330_row28_col1\" class=\"data row28 col1\" >59</td>\n",
              "    </tr>\n",
              "    <tr>\n",
              "      <th id=\"T_2b330_level0_row29\" class=\"row_heading level0 row29\" >29</th>\n",
              "      <td id=\"T_2b330_row29_col0\" class=\"data row29 col0\" >layer</td>\n",
              "      <td id=\"T_2b330_row29_col1\" class=\"data row29 col1\" >58</td>\n",
              "    </tr>\n",
              "    <tr>\n",
              "      <th id=\"T_2b330_level0_row30\" class=\"row_heading level0 row30\" >30</th>\n",
              "      <td id=\"T_2b330_row30_col0\" class=\"data row30 col0\" >water</td>\n",
              "      <td id=\"T_2b330_row30_col1\" class=\"data row30 col1\" >56</td>\n",
              "    </tr>\n",
              "    <tr>\n",
              "      <th id=\"T_2b330_level0_row31\" class=\"row_heading level0 row31\" >31</th>\n",
              "      <td id=\"T_2b330_row31_col0\" class=\"data row31 col0\" >type</td>\n",
              "      <td id=\"T_2b330_row31_col1\" class=\"data row31 col1\" >55</td>\n",
              "    </tr>\n",
              "    <tr>\n",
              "      <th id=\"T_2b330_level0_row32\" class=\"row_heading level0 row32\" >32</th>\n",
              "      <td id=\"T_2b330_row32_col0\" class=\"data row32 col0\" >ocean</td>\n",
              "      <td id=\"T_2b330_row32_col1\" class=\"data row32 col1\" >55</td>\n",
              "    </tr>\n",
              "    <tr>\n",
              "      <th id=\"T_2b330_level0_row33\" class=\"row_heading level0 row33\" >33</th>\n",
              "      <td id=\"T_2b330_row33_col0\" class=\"data row33 col0\" >eruption</td>\n",
              "      <td id=\"T_2b330_row33_col1\" class=\"data row33 col1\" >55</td>\n",
              "    </tr>\n",
              "    <tr>\n",
              "      <th id=\"T_2b330_level0_row34\" class=\"row_heading level0 row34\" >34</th>\n",
              "      <td id=\"T_2b330_row34_col0\" class=\"data row34 col0\" >zone</td>\n",
              "      <td id=\"T_2b330_row34_col1\" class=\"data row34 col1\" >55</td>\n",
              "    </tr>\n",
              "    <tr>\n",
              "      <th id=\"T_2b330_level0_row35\" class=\"row_heading level0 row35\" >35</th>\n",
              "      <td id=\"T_2b330_row35_col0\" class=\"data row35 col0\" >found</td>\n",
              "      <td id=\"T_2b330_row35_col1\" class=\"data row35 col1\" >54</td>\n",
              "    </tr>\n",
              "    <tr>\n",
              "      <th id=\"T_2b330_level0_row36\" class=\"row_heading level0 row36\" >36</th>\n",
              "      <td id=\"T_2b330_row36_col0\" class=\"data row36 col0\" >boundary</td>\n",
              "      <td id=\"T_2b330_row36_col1\" class=\"data row36 col1\" >54</td>\n",
              "    </tr>\n",
              "    <tr>\n",
              "      <th id=\"T_2b330_level0_row37\" class=\"row_heading level0 row37\" >37</th>\n",
              "      <td id=\"T_2b330_row37_col0\" class=\"data row37 col0\" >atom</td>\n",
              "      <td id=\"T_2b330_row37_col1\" class=\"data row37 col1\" >54</td>\n",
              "    </tr>\n",
              "    <tr>\n",
              "      <th id=\"T_2b330_level0_row38\" class=\"row_heading level0 row38\" >38</th>\n",
              "      <td id=\"T_2b330_row38_col0\" class=\"data row38 col0\" >ion</td>\n",
              "      <td id=\"T_2b330_row38_col1\" class=\"data row38 col1\" >54</td>\n",
              "    </tr>\n",
              "    <tr>\n",
              "      <th id=\"T_2b330_level0_row39\" class=\"row_heading level0 row39\" >39</th>\n",
              "      <td id=\"T_2b330_row39_col0\" class=\"data row39 col0\" >chemical</td>\n",
              "      <td id=\"T_2b330_row39_col1\" class=\"data row39 col1\" >53</td>\n",
              "    </tr>\n",
              "    <tr>\n",
              "      <th id=\"T_2b330_level0_row40\" class=\"row_heading level0 row40\" >40</th>\n",
              "      <td id=\"T_2b330_row40_col0\" class=\"data row40 col0\" >time</td>\n",
              "      <td id=\"T_2b330_row40_col1\" class=\"data row40 col1\" >51</td>\n",
              "    </tr>\n",
              "    <tr>\n",
              "      <th id=\"T_2b330_level0_row41\" class=\"row_heading level0 row41\" >41</th>\n",
              "      <td id=\"T_2b330_row41_col0\" class=\"data row41 col0\" >earth’s</td>\n",
              "      <td id=\"T_2b330_row41_col1\" class=\"data row41 col1\" >50</td>\n",
              "    </tr>\n",
              "    <tr>\n",
              "      <th id=\"T_2b330_level0_row42\" class=\"row_heading level0 row42\" >42</th>\n",
              "      <td id=\"T_2b330_row42_col0\" class=\"data row42 col0\" >ridge</td>\n",
              "      <td id=\"T_2b330_row42_col1\" class=\"data row42 col1\" >50</td>\n",
              "    </tr>\n",
              "    <tr>\n",
              "      <th id=\"T_2b330_level0_row43\" class=\"row_heading level0 row43\" >43</th>\n",
              "      <td id=\"T_2b330_row43_col0\" class=\"data row43 col0\" >iron</td>\n",
              "      <td id=\"T_2b330_row43_col1\" class=\"data row43 col1\" >50</td>\n",
              "    </tr>\n",
              "    <tr>\n",
              "      <th id=\"T_2b330_level0_row44\" class=\"row_heading level0 row44\" >44</th>\n",
              "      <td id=\"T_2b330_row44_col0\" class=\"data row44 col0\" >oceanic</td>\n",
              "      <td id=\"T_2b330_row44_col1\" class=\"data row44 col1\" >50</td>\n",
              "    </tr>\n",
              "    <tr>\n",
              "      <th id=\"T_2b330_level0_row45\" class=\"row_heading level0 row45\" >45</th>\n",
              "      <td id=\"T_2b330_row45_col0\" class=\"data row45 col0\" >electron</td>\n",
              "      <td id=\"T_2b330_row45_col1\" class=\"data row45 col1\" >49</td>\n",
              "    </tr>\n",
              "    <tr>\n",
              "      <th id=\"T_2b330_level0_row46\" class=\"row_heading level0 row46\" >46</th>\n",
              "      <td id=\"T_2b330_row46_col0\" class=\"data row46 col0\" >hotspot</td>\n",
              "      <td id=\"T_2b330_row46_col1\" class=\"data row46 col1\" >49</td>\n",
              "    </tr>\n",
              "    <tr>\n",
              "      <th id=\"T_2b330_level0_row47\" class=\"row_heading level0 row47\" >47</th>\n",
              "      <td id=\"T_2b330_row47_col0\" class=\"data row47 col0\" >different</td>\n",
              "      <td id=\"T_2b330_row47_col1\" class=\"data row47 col1\" >48</td>\n",
              "    </tr>\n",
              "    <tr>\n",
              "      <th id=\"T_2b330_level0_row48\" class=\"row_heading level0 row48\" >48</th>\n",
              "      <td id=\"T_2b330_row48_col0\" class=\"data row48 col0\" >known</td>\n",
              "      <td id=\"T_2b330_row48_col1\" class=\"data row48 col1\" >47</td>\n",
              "    </tr>\n",
              "    <tr>\n",
              "      <th id=\"T_2b330_level0_row49\" class=\"row_heading level0 row49\" >49</th>\n",
              "      <td id=\"T_2b330_row49_col0\" class=\"data row49 col0\" >many</td>\n",
              "      <td id=\"T_2b330_row49_col1\" class=\"data row49 col1\" >46</td>\n",
              "    </tr>\n",
              "    <tr>\n",
              "      <th id=\"T_2b330_level0_row50\" class=\"row_heading level0 row50\" >50</th>\n",
              "      <td id=\"T_2b330_row50_col0\" class=\"data row50 col0\" >science</td>\n",
              "      <td id=\"T_2b330_row50_col1\" class=\"data row50 col1\" >45</td>\n",
              "    </tr>\n",
              "    <tr>\n",
              "      <th id=\"T_2b330_level0_row51\" class=\"row_heading level0 row51\" >51</th>\n",
              "      <td id=\"T_2b330_row51_col0\" class=\"data row51 col0\" >formed</td>\n",
              "      <td id=\"T_2b330_row51_col1\" class=\"data row51 col1\" >45</td>\n",
              "    </tr>\n",
              "    <tr>\n",
              "      <th id=\"T_2b330_level0_row52\" class=\"row_heading level0 row52\" >52</th>\n",
              "      <td id=\"T_2b330_row52_col0\" class=\"data row52 col0\" >within</td>\n",
              "      <td id=\"T_2b330_row52_col1\" class=\"data row52 col1\" >45</td>\n",
              "    </tr>\n",
              "    <tr>\n",
              "      <th id=\"T_2b330_level0_row53\" class=\"row_heading level0 row53\" >53</th>\n",
              "      <td id=\"T_2b330_row53_col0\" class=\"data row53 col0\" >subduction</td>\n",
              "      <td id=\"T_2b330_row53_col1\" class=\"data row53 col1\" >45</td>\n",
              "    </tr>\n",
              "    <tr>\n",
              "      <th id=\"T_2b330_level0_row54\" class=\"row_heading level0 row54\" >54</th>\n",
              "      <td id=\"T_2b330_row54_col0\" class=\"data row54 col0\" >material</td>\n",
              "      <td id=\"T_2b330_row54_col1\" class=\"data row54 col1\" >44</td>\n",
              "    </tr>\n",
              "    <tr>\n",
              "      <th id=\"T_2b330_level0_row55\" class=\"row_heading level0 row55\" >55</th>\n",
              "      <td id=\"T_2b330_row55_col0\" class=\"data row55 col0\" >common</td>\n",
              "      <td id=\"T_2b330_row55_col1\" class=\"data row55 col1\" >44</td>\n",
              "    </tr>\n",
              "    <tr>\n",
              "      <th id=\"T_2b330_level0_row56\" class=\"row_heading level0 row56\" >56</th>\n",
              "      <td id=\"T_2b330_row56_col0\" class=\"data row56 col0\" >solid</td>\n",
              "      <td id=\"T_2b330_row56_col1\" class=\"data row56 col1\" >44</td>\n",
              "    </tr>\n",
              "    <tr>\n",
              "      <th id=\"T_2b330_level0_row57\" class=\"row_heading level0 row57\" >57</th>\n",
              "      <td id=\"T_2b330_row57_col0\" class=\"data row57 col0\" >show</td>\n",
              "      <td id=\"T_2b330_row57_col1\" class=\"data row57 col1\" >44</td>\n",
              "    </tr>\n",
              "    <tr>\n",
              "      <th id=\"T_2b330_level0_row58\" class=\"row_heading level0 row58\" >58</th>\n",
              "      <td id=\"T_2b330_row58_col0\" class=\"data row58 col0\" >flow</td>\n",
              "      <td id=\"T_2b330_row58_col1\" class=\"data row58 col1\" >44</td>\n",
              "    </tr>\n",
              "    <tr>\n",
              "      <th id=\"T_2b330_level0_row59\" class=\"row_heading level0 row59\" >59</th>\n",
              "      <td id=\"T_2b330_row59_col0\" class=\"data row59 col0\" >used</td>\n",
              "      <td id=\"T_2b330_row59_col1\" class=\"data row59 col1\" >43</td>\n",
              "    </tr>\n",
              "    <tr>\n",
              "      <th id=\"T_2b330_level0_row60\" class=\"row_heading level0 row60\" >60</th>\n",
              "      <td id=\"T_2b330_row60_col0\" class=\"data row60 col0\" >evidence</td>\n",
              "      <td id=\"T_2b330_row60_col1\" class=\"data row60 col1\" >43</td>\n",
              "    </tr>\n",
              "    <tr>\n",
              "      <th id=\"T_2b330_level0_row61\" class=\"row_heading level0 row61\" >61</th>\n",
              "      <td id=\"T_2b330_row61_col0\" class=\"data row61 col0\" >idea</td>\n",
              "      <td id=\"T_2b330_row61_col1\" class=\"data row61 col1\" >43</td>\n",
              "    </tr>\n",
              "    <tr>\n",
              "      <th id=\"T_2b330_level0_row62\" class=\"row_heading level0 row62\" >62</th>\n",
              "      <td id=\"T_2b330_row62_col0\" class=\"data row62 col0\" >composition</td>\n",
              "      <td id=\"T_2b330_row62_col1\" class=\"data row62 col1\" >43</td>\n",
              "    </tr>\n",
              "    <tr>\n",
              "      <th id=\"T_2b330_level0_row63\" class=\"row_heading level0 row63\" >63</th>\n",
              "      <td id=\"T_2b330_row63_col0\" class=\"data row63 col0\" >felsic</td>\n",
              "      <td id=\"T_2b330_row63_col1\" class=\"data row63 col1\" >43</td>\n",
              "    </tr>\n",
              "    <tr>\n",
              "      <th id=\"T_2b330_level0_row64\" class=\"row_heading level0 row64\" >64</th>\n",
              "      <td id=\"T_2b330_row64_col0\" class=\"data row64 col0\" >volcanism</td>\n",
              "      <td id=\"T_2b330_row64_col1\" class=\"data row64 col1\" >42</td>\n",
              "    </tr>\n",
              "    <tr>\n",
              "      <th id=\"T_2b330_level0_row65\" class=\"row_heading level0 row65\" >65</th>\n",
              "      <td id=\"T_2b330_row65_col0\" class=\"data row65 col0\" >large</td>\n",
              "      <td id=\"T_2b330_row65_col1\" class=\"data row65 col1\" >41</td>\n",
              "    </tr>\n",
              "    <tr>\n",
              "      <th id=\"T_2b330_level0_row66\" class=\"row_heading level0 row66\" >66</th>\n",
              "      <td id=\"T_2b330_row66_col0\" class=\"data row66 col0\" >lithosphere</td>\n",
              "      <td id=\"T_2b330_row66_col1\" class=\"data row66 col1\" >41</td>\n",
              "    </tr>\n",
              "    <tr>\n",
              "      <th id=\"T_2b330_level0_row67\" class=\"row_heading level0 row67\" >67</th>\n",
              "      <td id=\"T_2b330_row67_col0\" class=\"data row67 col0\" >shell</td>\n",
              "      <td id=\"T_2b330_row67_col1\" class=\"data row67 col1\" >41</td>\n",
              "    </tr>\n",
              "    <tr>\n",
              "      <th id=\"T_2b330_level0_row68\" class=\"row_heading level0 row68\" >68</th>\n",
              "      <td id=\"T_2b330_row68_col0\" class=\"data row68 col0\" >see</td>\n",
              "      <td id=\"T_2b330_row68_col1\" class=\"data row68 col1\" >40</td>\n",
              "    </tr>\n",
              "    <tr>\n",
              "      <th id=\"T_2b330_level0_row69\" class=\"row_heading level0 row69\" >69</th>\n",
              "      <td id=\"T_2b330_row69_col0\" class=\"data row69 col0\" >earthquake</td>\n",
              "      <td id=\"T_2b330_row69_col1\" class=\"data row69 col1\" >40</td>\n",
              "    </tr>\n",
              "    <tr>\n",
              "      <th id=\"T_2b330_level0_row70\" class=\"row_heading level0 row70\" >70</th>\n",
              "      <td id=\"T_2b330_row70_col0\" class=\"data row70 col0\" >hypothesis</td>\n",
              "      <td id=\"T_2b330_row70_col1\" class=\"data row70 col1\" >39</td>\n",
              "    </tr>\n",
              "    <tr>\n",
              "      <th id=\"T_2b330_level0_row71\" class=\"row_heading level0 row71\" >71</th>\n",
              "      <td id=\"T_2b330_row71_col0\" class=\"data row71 col0\" >movement</td>\n",
              "      <td id=\"T_2b330_row71_col1\" class=\"data row71 col1\" >39</td>\n",
              "    </tr>\n",
              "    <tr>\n",
              "      <th id=\"T_2b330_level0_row72\" class=\"row_heading level0 row72\" >72</th>\n",
              "      <td id=\"T_2b330_row72_col0\" class=\"data row72 col0\" >three</td>\n",
              "      <td id=\"T_2b330_row72_col1\" class=\"data row72 col1\" >39</td>\n",
              "    </tr>\n",
              "    <tr>\n",
              "      <th id=\"T_2b330_level0_row73\" class=\"row_heading level0 row73\" >73</th>\n",
              "      <td id=\"T_2b330_row73_col0\" class=\"data row73 col0\" >property</td>\n",
              "      <td id=\"T_2b330_row73_col1\" class=\"data row73 col1\" >38</td>\n",
              "    </tr>\n",
              "    <tr>\n",
              "      <th id=\"T_2b330_level0_row74\" class=\"row_heading level0 row74\" >74</th>\n",
              "      <td id=\"T_2b330_row74_col0\" class=\"data row74 col0\" >year</td>\n",
              "      <td id=\"T_2b330_row74_col1\" class=\"data row74 col1\" >37</td>\n",
              "    </tr>\n",
              "    <tr>\n",
              "      <th id=\"T_2b330_level0_row75\" class=\"row_heading level0 row75\" >75</th>\n",
              "      <td id=\"T_2b330_row75_col0\" class=\"data row75 col0\" >usually</td>\n",
              "      <td id=\"T_2b330_row75_col1\" class=\"data row75 col1\" >37</td>\n",
              "    </tr>\n",
              "    <tr>\n",
              "      <th id=\"T_2b330_level0_row76\" class=\"row_heading level0 row76\" >76</th>\n",
              "      <td id=\"T_2b330_row76_col0\" class=\"data row76 col0\" >often</td>\n",
              "      <td id=\"T_2b330_row76_col1\" class=\"data row76 col1\" >37</td>\n",
              "    </tr>\n",
              "    <tr>\n",
              "      <th id=\"T_2b330_level0_row77\" class=\"row_heading level0 row77\" >77</th>\n",
              "      <td id=\"T_2b330_row77_col0\" class=\"data row77 col0\" >oxygen</td>\n",
              "      <td id=\"T_2b330_row77_col1\" class=\"data row77 col1\" >37</td>\n",
              "    </tr>\n",
              "    <tr>\n",
              "      <th id=\"T_2b330_level0_row78\" class=\"row_heading level0 row78\" >78</th>\n",
              "      <td id=\"T_2b330_row78_col0\" class=\"data row78 col0\" >structure</td>\n",
              "      <td id=\"T_2b330_row78_col1\" class=\"data row78 col1\" >37</td>\n",
              "    </tr>\n",
              "    <tr>\n",
              "      <th id=\"T_2b330_level0_row79\" class=\"row_heading level0 row79\" >79</th>\n",
              "      <td id=\"T_2b330_row79_col0\" class=\"data row79 col0\" >fault</td>\n",
              "      <td id=\"T_2b330_row79_col1\" class=\"data row79 col1\" >37</td>\n",
              "    </tr>\n",
              "    <tr>\n",
              "      <th id=\"T_2b330_level0_row80\" class=\"row_heading level0 row80\" >80</th>\n",
              "      <td id=\"T_2b330_row80_col0\" class=\"data row80 col0\" >mafic</td>\n",
              "      <td id=\"T_2b330_row80_col1\" class=\"data row80 col1\" >37</td>\n",
              "    </tr>\n",
              "    <tr>\n",
              "      <th id=\"T_2b330_level0_row81\" class=\"row_heading level0 row81\" >81</th>\n",
              "      <td id=\"T_2b330_row81_col0\" class=\"data row81 col0\" >number</td>\n",
              "      <td id=\"T_2b330_row81_col1\" class=\"data row81 col1\" >36</td>\n",
              "    </tr>\n",
              "    <tr>\n",
              "      <th id=\"T_2b330_level0_row82\" class=\"row_heading level0 row82\" >82</th>\n",
              "      <td id=\"T_2b330_row82_col0\" class=\"data row82 col0\" >pressure</td>\n",
              "      <td id=\"T_2b330_row82_col1\" class=\"data row82 col1\" >36</td>\n",
              "    </tr>\n",
              "    <tr>\n",
              "      <th id=\"T_2b330_level0_row83\" class=\"row_heading level0 row83\" >83</th>\n",
              "      <td id=\"T_2b330_row83_col0\" class=\"data row83 col0\" >bond</td>\n",
              "      <td id=\"T_2b330_row83_col1\" class=\"data row83 col1\" >36</td>\n",
              "    </tr>\n",
              "    <tr>\n",
              "      <th id=\"T_2b330_level0_row84\" class=\"row_heading level0 row84\" >84</th>\n",
              "      <td id=\"T_2b330_row84_col0\" class=\"data row84 col0\" >another</td>\n",
              "      <td id=\"T_2b330_row84_col1\" class=\"data row84 col1\" >34</td>\n",
              "    </tr>\n",
              "    <tr>\n",
              "      <th id=\"T_2b330_level0_row85\" class=\"row_heading level0 row85\" >85</th>\n",
              "      <td id=\"T_2b330_row85_col0\" class=\"data row85 col0\" >study</td>\n",
              "      <td id=\"T_2b330_row85_col1\" class=\"data row85 col1\" >33</td>\n",
              "    </tr>\n",
              "    <tr>\n",
              "      <th id=\"T_2b330_level0_row86\" class=\"row_heading level0 row86\" >86</th>\n",
              "      <td id=\"T_2b330_row86_col0\" class=\"data row86 col0\" >theory</td>\n",
              "      <td id=\"T_2b330_row86_col1\" class=\"data row86 col1\" >33</td>\n",
              "    </tr>\n",
              "    <tr>\n",
              "      <th id=\"T_2b330_level0_row87\" class=\"row_heading level0 row87\" >87</th>\n",
              "      <td id=\"T_2b330_row87_col0\" class=\"data row87 col0\" >gas</td>\n",
              "      <td id=\"T_2b330_row87_col1\" class=\"data row87 col1\" >33</td>\n",
              "    </tr>\n",
              "    <tr>\n",
              "      <th id=\"T_2b330_level0_row88\" class=\"row_heading level0 row88\" >88</th>\n",
              "      <td id=\"T_2b330_row88_col0\" class=\"data row88 col0\" >mountain</td>\n",
              "      <td id=\"T_2b330_row88_col1\" class=\"data row88 col1\" >33</td>\n",
              "    </tr>\n",
              "    <tr>\n",
              "      <th id=\"T_2b330_level0_row89\" class=\"row_heading level0 row89\" >89</th>\n",
              "      <td id=\"T_2b330_row89_col0\" class=\"data row89 col0\" >geology</td>\n",
              "      <td id=\"T_2b330_row89_col1\" class=\"data row89 col1\" >32</td>\n",
              "    </tr>\n",
              "    <tr>\n",
              "      <th id=\"T_2b330_level0_row90\" class=\"row_heading level0 row90\" >90</th>\n",
              "      <td id=\"T_2b330_row90_col0\" class=\"data row90 col0\" >geologist</td>\n",
              "      <td id=\"T_2b330_row90_col1\" class=\"data row90 col1\" >32</td>\n",
              "    </tr>\n",
              "    <tr>\n",
              "      <th id=\"T_2b330_level0_row91\" class=\"row_heading level0 row91\" >91</th>\n",
              "      <td id=\"T_2b330_row91_col0\" class=\"data row91 col0\" >located</td>\n",
              "      <td id=\"T_2b330_row91_col1\" class=\"data row91 col1\" >32</td>\n",
              "    </tr>\n",
              "    <tr>\n",
              "      <th id=\"T_2b330_level0_row92\" class=\"row_heading level0 row92\" >92</th>\n",
              "      <td id=\"T_2b330_row92_col0\" class=\"data row92 col0\" >created</td>\n",
              "      <td id=\"T_2b330_row92_col1\" class=\"data row92 col1\" >32</td>\n",
              "    </tr>\n",
              "    <tr>\n",
              "      <th id=\"T_2b330_level0_row93\" class=\"row_heading level0 row93\" >93</th>\n",
              "      <td id=\"T_2b330_row93_col0\" class=\"data row93 col0\" >together</td>\n",
              "      <td id=\"T_2b330_row93_col1\" class=\"data row93 col1\" >32</td>\n",
              "    </tr>\n",
              "    <tr>\n",
              "      <th id=\"T_2b330_level0_row94\" class=\"row_heading level0 row94\" >94</th>\n",
              "      <td id=\"T_2b330_row94_col0\" class=\"data row94 col0\" >rift</td>\n",
              "      <td id=\"T_2b330_row94_col1\" class=\"data row94 col1\" >32</td>\n",
              "    </tr>\n",
              "    <tr>\n",
              "      <th id=\"T_2b330_level0_row95\" class=\"row_heading level0 row95\" >95</th>\n",
              "      <td id=\"T_2b330_row95_col0\" class=\"data row95 col0\" >tetrahedron</td>\n",
              "      <td id=\"T_2b330_row95_col1\" class=\"data row95 col1\" >32</td>\n",
              "    </tr>\n",
              "    <tr>\n",
              "      <th id=\"T_2b330_level0_row96\" class=\"row_heading level0 row96\" >96</th>\n",
              "      <td id=\"T_2b330_row96_col0\" class=\"data row96 col0\" >new</td>\n",
              "      <td id=\"T_2b330_row96_col1\" class=\"data row96 col1\" >31</td>\n",
              "    </tr>\n",
              "    <tr>\n",
              "      <th id=\"T_2b330_level0_row97\" class=\"row_heading level0 row97\" >97</th>\n",
              "      <td id=\"T_2b330_row97_col0\" class=\"data row97 col0\" >geologic</td>\n",
              "      <td id=\"T_2b330_row97_col1\" class=\"data row97 col1\" >31</td>\n",
              "    </tr>\n",
              "    <tr>\n",
              "      <th id=\"T_2b330_level0_row98\" class=\"row_heading level0 row98\" >98</th>\n",
              "      <td id=\"T_2b330_row98_col0\" class=\"data row98 col0\" >change</td>\n",
              "      <td id=\"T_2b330_row98_col1\" class=\"data row98 col1\" >31</td>\n",
              "    </tr>\n",
              "    <tr>\n",
              "      <th id=\"T_2b330_level0_row99\" class=\"row_heading level0 row99\" >99</th>\n",
              "      <td id=\"T_2b330_row99_col0\" class=\"data row99 col0\" >continent</td>\n",
              "      <td id=\"T_2b330_row99_col1\" class=\"data row99 col1\" >31</td>\n",
              "    </tr>\n",
              "  </tbody>\n",
              "</table>\n"
            ]
          },
          "metadata": {},
          "execution_count": 198
        }
      ]
    },
    {
      "cell_type": "markdown",
      "source": [
        "## Сохраняем результат\n",
        "\n",
        "Обычно DataFrame сохраняется в формате `csv`, но мы можем сохранить в Excel.\n",
        "\n"
      ],
      "metadata": {
        "id": "U-ex176F6v30"
      }
    },
    {
      "cell_type": "code",
      "source": [
        "# преобразование в Excel\n",
        "\n",
        "df.to_excel(\"output.xlsx\")  "
      ],
      "metadata": {
        "id": "zcWaORxl3PsC"
      },
      "execution_count": 199,
      "outputs": []
    },
    {
      "cell_type": "markdown",
      "source": [
        "Находим файл и скачиваем его.\n",
        "\n",
        "![image.png](data:image/png;base64,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)"
      ],
      "metadata": {
        "id": "lDp9Twi07AHd"
      }
    },
    {
      "cell_type": "markdown",
      "source": [
        "# Заключительные мысли\n",
        "\n",
        "* Посмотрим на результат работы в Excel\n",
        "* Выделим основные преимущества и недостатки подхода\n",
        "* Что можно изменить в текущем алгоритме, чтобы улучшить результат? \n",
        "* Для решения каких проблем нужно использовать более продвинутые решения?"
      ],
      "metadata": {
        "id": "y4oXQlJ37kAd"
      }
    }
  ]
}